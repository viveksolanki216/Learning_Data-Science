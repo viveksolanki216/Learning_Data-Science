{
 "cells": [
  {
   "cell_type": "markdown",
   "metadata": {},
   "source": [
    "# Book : Python Data Science Handbook\n",
    "## Chapter 2 - Introduction to Numpy"
   ]
  },
  {
   "cell_type": "markdown",
   "metadata": {},
   "source": [
    "* Python is interpreted, high-level, general programming language.\n",
    "* The standard Python implementation written in C.\n",
    "* The  language itself was not specifically designed with data analysis or scientific computing in mind. \n",
    "* The usefulness of Python for data science stems primarily from the large and active ecosystem of third-party packages.\n",
    "* NumPy for manipulation of homogeneous array-based data, Pandas for manipulation of heterogeneous and labeled data.\n",
    "* SciPy for common scientific computing tasks, Matplotlib for publication-quality visualizations. \n",
    "* IPython for interactive execution and sharing of code.\n",
    "* Scikit-Learn for machine learning, and many more tools that will be mentioned in the following pages.\n",
    "\n",
    "For more information on numpy and scipy, visit:\n",
    "* https://numpy.org/doc/stable/reference/index.html\n",
    "* https://www.scipy.org/\n",
    "\n",
    "## Data Types :\n",
    "### Dynamic Typing:\n",
    "Python has dynamic typing, means you do not need to specify type of an object. Ie \n",
    "Python object is simply a cleverly-disguised C structure, which contains not only its value, but other information as well. For example, when we define an integer in Python, such as x = 10000, x is not just a \"raw\" integer. It's actually a pointer to a compound C structure, which contains several values.\n",
    "\n",
    "struct _longobject {\n",
    "    \n",
    "    long ob_refcnt;\n",
    "    PyTypeObject *ob_type;\n",
    "    size_t ob_size;\n",
    "    long ob_digit[1];\n",
    "\n",
    "};\n",
    "\n",
    "A single integer in Python 3.4 actually contains four pieces:\n",
    "\n",
    "  * ob_refcnt, a reference count that helps Python silently handle memory allocation and deallocation\n",
    "  * ob_type, which encodes the type of the variable\n",
    "  * ob_size, which specifies the size of the following data members\n",
    "  * ob_digit, which contains the actual integer value that we expect the Python variable to represent.\n",
    "\n",
    "<img src=\"Images/Ch-2/PythonHandbook0.png\" alt=\"py0\" style=\"width: 500px;\"/>\n",
    "\n",
    "Notice the difference here: a C integer is essentially a label for a position in memory whose bytes encode an integer value. A Python integer is a pointer to a position in memory containing all the Python object information, including the bytes that contain the integer value. This extra information in the Python integer structure is what allows Python to be coded so freely and dynamically. All this additional information in Python types comes at a cost, however, which becomes especially apparent in structures that combine many of these objects.\n"
   ]
  },
  {
   "cell_type": "code",
   "execution_count": 2,
   "metadata": {},
   "outputs": [],
   "source": [
    "Num = 5\n",
    "Num = '5'\n"
   ]
  },
  {
   "cell_type": "markdown",
   "metadata": {},
   "source": [
    "### List\n",
    "The standard mutable multi hetergenous element container is List."
   ]
  },
  {
   "cell_type": "code",
   "execution_count": 9,
   "metadata": {},
   "outputs": [
    {
     "name": "stdout",
     "output_type": "stream",
     "text": [
      "<class 'int'>\n",
      "<class 'str'>\n",
      "[<class 'bool'>, <class 'str'>, <class 'float'>, <class 'int'>]\n"
     ]
    }
   ],
   "source": [
    "L = list(range(10))\n",
    "print(type(L[0]))\n",
    "L2 = [str(c) for c in L]\n",
    "print(type(L2[0]))\n",
    "L3 = [True, \"2\", 3.0, 4]\n",
    "print([type(item) for item in L3])\n"
   ]
  },
  {
   "cell_type": "markdown",
   "metadata": {},
   "source": [
    "Because of Python's dynamic typing, we can even create heterogeneous lists as above L3. But this flexibility comes at a cost: to allow these flexible types, each item in the list must contain its own type info, reference count, and other information–that is, each item is a complete Python object. In the special case that all variables are of the same type, much of this information is redundant: it can be much more efficient to store data in a fixed-type array. The difference between a dynamic-type list and a fixed-type (NumPy-style) array is illustrated in the following figure:\n",
    "\n",
    "<img src=\"Images/Ch-2/PythonHandbook1.png\" alt=\"py0\" style=\"width: 500px;\"/>\n",
    "\n",
    "**Numpy Array vs List**\n",
    "At the implementation level, the array essentially contains a single pointer to one contiguous block of data. The Python list, on the other hand, contains a pointer to a block of pointers, each of which in turn points to a full Python object like the Python integer we saw earlier. Again, the advantage of the list is flexibility: because each list element is a full structure containing both data and type information, the list can be filled with data of any desired type. Fixed-type NumPy-style arrays lack this flexibility, but are much more efficient for storing and manipulating data."
   ]
  },
  {
   "cell_type": "markdown",
   "metadata": {},
   "source": [
    "### Fixed Type Arrays\n",
    "\n",
    "First, we can use np.array to create arrays from Python lists."
   ]
  },
  {
   "cell_type": "code",
   "execution_count": 4,
   "metadata": {
    "scrolled": true
   },
   "outputs": [
    {
     "name": "stdout",
     "output_type": "stream",
     "text": [
      "array('i', [0, 1, 2, 3, 4, 5, 6, 7, 8, 9])\n",
      "[1 2 3 4 5]\n",
      "\n",
      "[1.11 2.   3.   4.   5.  ]\n",
      "\n",
      "[1. 2. 3. 4. 5.]\n",
      "\n",
      "[range(0, 3), range(1, 4), range(2, 5)]\n",
      "[[0 1 2]\n",
      " [1 2 3]\n",
      " [2 3 4]]\n",
      "\n"
     ]
    }
   ],
   "source": [
    "import array\n",
    "L = list(range(10))\n",
    "A = array.array('i', L)\n",
    "print(A)\n",
    "\n",
    "# Using Numpy\n",
    "import numpy as np\n",
    "\n",
    "################# Using Lists as an argument##############\n",
    "\n",
    "# By providing list into the function np.array\n",
    "print(np.array([1,2,3,4,5]))\n",
    "print()\n",
    "# Remember that unlike Python lists, NumPy is constrained to arrays that all contain the same type. \n",
    "# If types do not match, NumPy will upcast if possible (here, integers are up-cast to floating point).\n",
    "print(np.array([1.11,2,3,4,5]))\n",
    "print()\n",
    "\n",
    "#If we want to explicitly set the data type of the resulting array, we can use the dtype keyword:\n",
    "print(np.array([1,2,3,4,5], dtype='float32'))\n",
    "print()\n",
    "\n",
    "# Multi-dimensional array using list of lists\n",
    "lists = [range(i, i+3) for i in range(0,3)]\n",
    "print(lists)\n",
    "print(np.array(lists))\n",
    "print()"
   ]
  },
  {
   "cell_type": "code",
   "execution_count": 44,
   "metadata": {},
   "outputs": [
    {
     "name": "stdout",
     "output_type": "stream",
     "text": [
      "[0 0 0 0 0 0 0 0 0 0]\n",
      "\n",
      "[0 0 0 0 0 0 0 0 0 0]\n",
      "\n",
      "[[[1 1 1 1]\n",
      "  [1 1 1 1]\n",
      "  [1 1 1 1]]\n",
      "\n",
      " [[1 1 1 1]\n",
      "  [1 1 1 1]\n",
      "  [1 1 1 1]]]\n",
      "\n",
      "[[3.14 3.14 3.14 3.14 3.14]\n",
      " [3.14 3.14 3.14 3.14 3.14]\n",
      " [3.14 3.14 3.14 3.14 3.14]]\n",
      "\n"
     ]
    }
   ],
   "source": [
    "# Creating arrays from scratch\n",
    "################# Fixed Value Arrrays ##############\n",
    "# Array\n",
    "x = np.zeros(10, dtype='int')\n",
    "print(x)\n",
    "print()\n",
    "\n",
    "print(np.zeros_like(x)) # Generate the zerro array of similar shape as the argument array\n",
    "print()\n",
    "\n",
    "# Multi-dimensional array\n",
    "print(np.ones((2,3,4), dtype='int')) # 3d\n",
    "print()\n",
    "\n",
    "# With a single value in all cells\n",
    "print(np.full((3, 5), 3.14))\n",
    "print()\n",
    "\n",
    "#np.ones_like\n",
    "#np.full_like"
   ]
  },
  {
   "cell_type": "code",
   "execution_count": 26,
   "metadata": {},
   "outputs": [
    {
     "name": "stdout",
     "output_type": "stream",
     "text": [
      "[ 0  2  4  6  8 10 12 14 16 18]\n",
      "\n",
      "[0.   0.25 0.5  0.75 1.  ]\n",
      "\n"
     ]
    }
   ],
   "source": [
    "################# Sequences ############### \n",
    "# Creat an array of sequences given range and steps to increase, similar to built in function range\n",
    "print(np.arange(0,20,2))\n",
    "print()\n",
    "\n",
    "# Create an array of sequences of size n evenly spaces\n",
    "print(np.linspace(0,1,5))\n",
    "print()"
   ]
  },
  {
   "cell_type": "code",
   "execution_count": 27,
   "metadata": {},
   "outputs": [
    {
     "name": "stdout",
     "output_type": "stream",
     "text": [
      "[[0.87809002 0.81990685 0.76168734]\n",
      " [0.99984207 0.1688947  0.1240482 ]\n",
      " [0.78033724 0.82587843 0.88714509]]\n",
      "\n",
      "[[ 0.63827376  1.05849839  0.92211184]\n",
      " [ 1.0952846  -0.55132237  1.02475592]\n",
      " [-0.61876306 -1.61699666  0.08817839]]\n",
      "\n",
      "[[3 3 4]\n",
      " [2 1 2]\n",
      " [7 7 6]]\n",
      "\n"
     ]
    }
   ],
   "source": [
    "################# Random Value Arrays ##############\n",
    "# Create an array of random values, uniformly distributed between 0 and 1\n",
    "print(np.random.random((3,3)))\n",
    "print()\n",
    "\n",
    "# random values, normally distributed with mean =0 and sd = 1\n",
    "print(np.random.normal(0, 1, (3, 3)))\n",
    "print()\n",
    "\n",
    "# random integers, in the interval [0,10)\n",
    "print(np.random.randint(0, 10, (3, 3)))\n",
    "print()"
   ]
  },
  {
   "cell_type": "code",
   "execution_count": 31,
   "metadata": {},
   "outputs": [
    {
     "name": "stdout",
     "output_type": "stream",
     "text": [
      "[[1. 0. 0.]\n",
      " [0. 1. 0.]]\n",
      "\n",
      "[[1. 0. 0.]\n",
      " [0. 1. 0.]]\n"
     ]
    }
   ],
   "source": [
    "############ Some more examples ############\n",
    "# identity matrix\n",
    "print(np.eye(2,3))\n",
    "print()\n",
    "\n",
    "# uninitialized array matrix\n",
    "print(np.empty((2,3)))\n"
   ]
  },
  {
   "cell_type": "markdown",
   "metadata": {},
   "source": [
    "The standard NumPy data types are listed in the following table. Note that when constructing an array, they can be specified using a string:\n",
    "    \n",
    "* bool_\tBoolean (True or False) stored as a byte\n",
    "* int_\tDefault integer type (same as C long; normally either int64 or int32)\n",
    "* intc\tIdentical to C int (normally int32 or int64)\n",
    "* intp\tInteger used for indexing (same as C ssize_t; normally either int32 or int64)\n",
    "* int8\tByte (-128 to 127)\n",
    "* int16\tInteger (-32768 to 32767)\n",
    "* int32\tInteger (-2147483648 to 2147483647)\n",
    "* int64\tInteger (-9223372036854775808 to 9223372036854775807)\n",
    "* uint8\tUnsigned integer (0 to 255)\n",
    "* uint16\tUnsigned integer (0 to 65535)\n",
    "* uint32\tUnsigned integer (0 to 4294967295)\n",
    "* uint64\tUnsigned integer (0 to 18446744073709551615)\n",
    "* float_\tShorthand for float64.\n",
    "* float16\tHalf precision float: sign bit, 5 bits exponent, 10 bits mantissa\n",
    "* float32\tSingle precision float: sign bit, 8 bits exponent, 23 bits mantissa\n",
    "* float64\tDouble precision float: sign bit, 11 bits exponent, 52 bits mantissa\n",
    "* complex_\tShorthand for complex128.\n",
    "* complex64\tComplex number, represented by two 32-bit floats\n",
    "* complex128\tComplex number, represented by two 64-bit floats"
   ]
  },
  {
   "cell_type": "markdown",
   "metadata": {},
   "source": [
    "#### The Basics of Numpy Arrays (Data Manipulation)\n",
    "\n",
    "We'll cover a few categories of basic array manipulations here:\n",
    "\n",
    "* Attributes of arrays: Determining the size, shape, memory consumption, and data types of arrays\n",
    "* Indexing of arrays: Getting and setting the value of individual array elements\n",
    "* Slicing of arrays: Getting and setting smaller subarrays within a larger array\n",
    "* Reshaping of arrays: Changing the shape of a given array\n",
    "* Joining and splitting of arrays: Combining multiple arrays into one, and splitting one array into many\n"
   ]
  },
  {
   "cell_type": "code",
   "execution_count": 7,
   "metadata": {},
   "outputs": [
    {
     "name": "stdout",
     "output_type": "stream",
     "text": [
      "[9 1 9 9 3 4 6 7 1 2]\n",
      "\n",
      "[[8 2 3 8 5 1]\n",
      " [1 5 9 7 6 5]\n",
      " [3 7 9 4 3 5]\n",
      " [6 5 1 8 7 6]\n",
      " [0 1 6 0 2 6]\n",
      " [4 1 4 9 2 3]]\n",
      "\n",
      "[[[6 5]\n",
      "  [2 1]\n",
      "  [9 1]]\n",
      "\n",
      " [[6 7]\n",
      "  [3 9]\n",
      "  [1 1]]\n",
      "\n",
      " [[0 4]\n",
      "  [5 5]\n",
      "  [7 7]]]\n",
      "\n"
     ]
    }
   ],
   "source": [
    "x1 = np.random.randint(0,10, 10)  # Range for random integer then the size\n",
    "print(x1)\n",
    "print()\n",
    "x2 = np.random.randint(0,10, (6,6))\n",
    "print(x2)\n",
    "print()\n",
    "x3 = np.random.randint(0,10, (3,3,2))\n",
    "print(x3)\n",
    "print()\n"
   ]
  },
  {
   "cell_type": "code",
   "execution_count": 8,
   "metadata": {},
   "outputs": [
    {
     "name": "stdout",
     "output_type": "stream",
     "text": [
      "3\n",
      "(3, 3, 2)\n",
      "18\n",
      "int64\n",
      "itemsize: 8 bytes\n",
      "nbytes: 144 bytes\n"
     ]
    }
   ],
   "source": [
    "############ Attributes of an Array############\n",
    "\n",
    "print(x3.ndim) # Dimensions of array\n",
    "print(x3.shape) # Shape of array\n",
    "print(x3.size) # Total number of cells/elements of array\n",
    "print(x3.dtype) # data type of elements of array\n",
    "\n",
    "print(\"itemsize:\", x3.itemsize, \"bytes\") # size of elements in byte\n",
    "print(\"nbytes:\", x3.nbytes, \"bytes\")    # total size of arr"
   ]
  },
  {
   "cell_type": "code",
   "execution_count": 9,
   "metadata": {},
   "outputs": [
    {
     "name": "stdout",
     "output_type": "stream",
     "text": [
      "[9 1 9 9 3 4 6 7 1 2]\n",
      "9 9\n",
      "1 2\n",
      "[ 9  1  9 10  3  4  6  7  1  2]\n",
      "\n",
      "[[8 2 3 8 5 1]\n",
      " [1 5 9 7 6 5]\n",
      " [3 7 9 4 3 5]\n",
      " [6 5 1 8 7 6]\n",
      " [0 1 6 0 2 6]\n",
      " [4 1 4 9 2 3]]\n",
      "8 9 [[8 2]\n",
      " [1 5]]\n",
      "5 3 [[0 2]]\n"
     ]
    }
   ],
   "source": [
    "############ Array Indexing ############\n",
    "\n",
    "# Single Dimensional Array #\n",
    "print(x1)\n",
    "# Accessing a elements of an array\n",
    "print(x1[0], x1[3] )        \n",
    "# To Accesse or index array from the end   \n",
    "print(x1[-2], x1[-1])        \n",
    "# Assigining a value\n",
    "x1[3] = 10.14               # Assiging a float value to an integer array,\n",
    "print(x1)\n",
    "\n",
    "print()\n",
    "# multi-Dimensional Array #\n",
    "print(x2)\n",
    "# Accessing a elements of an array\n",
    "print(x2[0,0], x2[2,2] ,x2[0:2,0:2])            \n",
    "# To Accesse or index array from the end   \n",
    "print(x2[0,-2], x2[-1,-1], x2[-2:-1,-3:-1])      \n",
    "\n"
   ]
  },
  {
   "cell_type": "code",
   "execution_count": 25,
   "metadata": {},
   "outputs": [
    {
     "name": "stdout",
     "output_type": "stream",
     "text": [
      "[0 1 2 3 4 5 6 7 8 9]\n",
      "[0 1 2 3 4]\n",
      "[0 1 2 3 4 5]\n",
      "[5 6 7 8 9]\n",
      "[6 7 8 9]\n",
      "[3 4 5 6]\n",
      "[2 4 6]\n",
      "[8 6 4]\n",
      "[8 6 4]\n",
      "[0 2 4 6 8]\n",
      "[2 5 8]\n",
      "[9 8 7 6 5 4 3 2 1 0]\n",
      "[9 7 5 3 1]\n",
      "----------------------------------------------------------------------\n",
      "[[8 2 3 8 5 1]\n",
      " [1 5 9 7 6 5]\n",
      " [3 7 9 4 3 5]\n",
      " [6 5 1 8 7 6]\n",
      " [0 1 6 0 2 6]\n",
      " [4 1 4 9 2 3]]\n",
      "[[8 2]\n",
      " [1 5]]\n",
      "[[3 7 9 4 3 5]\n",
      " [6 5 1 8 7 6]\n",
      " [0 1 6 0 2 6]\n",
      " [4 1 4 9 2 3]]\n",
      "[[8 2 3 8 5 1]\n",
      " [3 7 9 4 3 5]\n",
      " [0 1 6 0 2 6]]\n",
      "[[2 5]\n",
      " [7 3]\n",
      " [1 2]]\n",
      "[[3 2 9 4 1 4]\n",
      " [6 2 0 6 1 0]\n",
      " [6 7 8 1 5 6]\n",
      " [5 3 4 9 7 3]\n",
      " [5 6 7 9 5 1]\n",
      " [1 5 8 3 2 8]]\n",
      "[[0 1 6 0 2 6]\n",
      " [3 7 9 4 3 5]\n",
      " [8 2 3 8 5 1]]\n",
      "\n",
      "[3 7 9 4 3 5]\n",
      "[3 7 9 4 3 5]\n",
      "[[3 7 9 4 3 5]]\n"
     ]
    }
   ],
   "source": [
    "############ Array Slicing ############\n",
    "# 1-D array\n",
    "x = np.arange(10)\n",
    "\n",
    "# To slice arrays, one can provide slicers in the format start_index:stop_index:step_count\n",
    "# If start_index = blank, then it consider 0\n",
    "# If end_index = blank, then it consider len(array)\n",
    "# If step = blank, then considers step = 1\n",
    "# If step = -ve then it reverses the order\n",
    "print(x)\n",
    "print(x[:5])             # First five elements\n",
    "print(x[:-4])            # end = len(array) - 4 = 10 - 4 = 6, so 0th to 5th elements will be printed\n",
    "print(x[5:])             # Elements after five elements, stars frm 6th elements\n",
    "print(x[-4:])            # Start = len(array) - 4 = 10 - 4= 6, so it starts from 6th index\n",
    "print(x[3:7])            # 4th to 7th element.\n",
    "\n",
    "# With stepsize\n",
    "print(x[2:8:2])          # start:stop:stepsize, 8 is excluded\n",
    "print(x[8:2:-2])         # Reverse order, 2 is excluded\n",
    "print(x[-2:-8:-2])       # Same as above\n",
    "\n",
    "print(x[::2])            # Every other element, skipping a single element in between, starting from index 0\n",
    "print(x[2::3])           # skipping two elements in between, starting from index 2 (aka 3rd element)\n",
    "print(x[::-1])           # negative step size has just reversed the array.\n",
    "print(x[9::-2])          # accessing every other element in reverse order\n",
    "print('----------------------------------------------------------------------')\n",
    "# n-d array\n",
    "print(x2)\n",
    "\n",
    "print(x2[:2,:2])         # First two rows and two columns\n",
    "print(x2[2:])            # All rows from index 2\n",
    "print(x2[::2])           # Every other row, skipping a single row in between, starting from index 0\n",
    "print(x2[::2,1::3])      # skipping two elements in between, starting from index 2 (aka 3rd element)\n",
    "print(x2[::-1,::-1])     # Reversed the rows and columns\n",
    "print(x2[-2::-2])        # accessing every other row in reverse order, starting from the 2nd index from back.\n",
    "\n",
    "print()\n",
    "print(x2[2,:])           # Accessing 3rd row as an array\n",
    "print(x2[2])             # Equivalent to above\n",
    "print(x2[2:3,:])         # Accessing 3rd row but as a matrices\n"
   ]
  },
  {
   "cell_type": "markdown",
   "metadata": {},
   "source": [
    "### Subarrays as no-copy views\n",
    "*One important–and extremely useful–thing to know about array slices is that they return views rather than copies of the array data. This is one area in which NumPy array slicing differs from Python list slicing: in lists, slices will be copies. Consider our two-dimensional array from before*\n",
    "\n",
    "*This default behavior is actually quite useful: it means that when we work with large datasets, we can access and process pieces of these datasets without the need to copy the underlying data buffer.*"
   ]
  },
  {
   "cell_type": "code",
   "execution_count": 112,
   "metadata": {},
   "outputs": [
    {
     "name": "stdout",
     "output_type": "stream",
     "text": [
      "[ 0  1  2  3  4 99  6  7  8  9]\n",
      "[ 3  4 99]\n",
      "[ 3  4 99]\n",
      "[ 0  1  2  3  4 99  6  7  8  9]\n",
      "[ 3  4 99  6  7]\n"
     ]
    }
   ],
   "source": [
    "\n",
    "\n",
    "print(x)\n",
    "x_sub = x[3:6]\n",
    "print(x_sub)\n",
    "x_sub[2] = 99\n",
    "print(x_sub)\n",
    "print(x)\n",
    "\n",
    "### To create an explicit copy of an array ###########\n",
    "x_sub = x[3:8].copy()\n",
    "print(x_sub)          # Now chaning element in x_sub wont change the element in the original array\n"
   ]
  },
  {
   "cell_type": "code",
   "execution_count": 116,
   "metadata": {},
   "outputs": [
    {
     "name": "stdout",
     "output_type": "stream",
     "text": [
      "[[99  1  2]\n",
      " [ 3  4  5]\n",
      " [ 6  7  8]]\n",
      "[99  1  2  3  4  5  6  7  8]\n"
     ]
    }
   ],
   "source": [
    "##### Reshaping of arrays ########\n",
    "x = np.arange(0,9)\n",
    "x1 = x.reshape((3,3))\n",
    "x1[0,0] = 99\n",
    "print(x1)\n",
    "print(x)       # Not always the case, but reshape also does not always make a copy of the original array"
   ]
  },
  {
   "cell_type": "code",
   "execution_count": 139,
   "metadata": {},
   "outputs": [
    {
     "name": "stdout",
     "output_type": "stream",
     "text": [
      "[1 2 4 3 2 4 6 2 4]\n",
      "\n",
      "[[99  1  2]\n",
      " [ 3  4  5]\n",
      " [ 6  7  8]]\n",
      "[[99  1  2]\n",
      " [ 3  4  5]\n",
      " [ 6  7  8]\n",
      " [99  1  2]\n",
      " [ 3  4  5]\n",
      " [ 6  7  8]]\n",
      "[[99  1  2 99  1  2]\n",
      " [ 3  4  5  3  4  5]\n",
      " [ 6  7  8  6  7  8]]\n",
      "\n",
      "[[8 9 8]\n",
      " [5 6 6]]\n",
      "[[99  1  2]\n",
      " [ 3  4  5]\n",
      " [ 6  7  8]\n",
      " [ 8  9  8]\n",
      " [ 5  6  6]]\n",
      "\n",
      "[[99]\n",
      " [99]]\n",
      "[[ 8  9  8 99]\n",
      " [ 5  6  6 99]]\n"
     ]
    }
   ],
   "source": [
    "##### Array Concatenation  ########\n",
    "\n",
    "# 1-d arrays\n",
    "print(np.concatenate(\n",
    "                    [\n",
    "                      np.array([1,2,4]),\n",
    "                      np.array([3,2,4]),\n",
    "                      np.array([6,2,4])\n",
    "                    ]\n",
    "                    ))\n",
    "print()\n",
    "\n",
    "# multi-dimensional arrays\n",
    "print(x1)\n",
    "print(np.concatenate([ x1, x1.copy()]))            # row wise concatenation (axis=0, default value),like rbind in R\n",
    "print(np.concatenate([ x1, x1.copy()], axis = 1))  # axis=1, columnwise concatenation, cbind in R\n",
    "print()\n",
    "\n",
    "x2 = np.random.randint(0,10,(2,3))\n",
    "print(x2)\n",
    "print(np.concatenate([x1,x2]))  # shape must be compatible for all matrices to concatenate\n",
    "print()\n",
    "\n",
    "# Or we can use vstack or hstack, instead of getting confused with axis\n",
    "column_mat = np.array([[99],[99]])   # 1x2 matrices\n",
    "print(column_mat)\n",
    "print(np.hstack([x2, column_mat]))"
   ]
  },
  {
   "cell_type": "code",
   "execution_count": 156,
   "metadata": {},
   "outputs": [
    {
     "name": "stdout",
     "output_type": "stream",
     "text": [
      "[[ 0  1  2  3]\n",
      " [ 4  5  6  7]\n",
      " [ 8  9 10 11]]\n",
      "[[ 0  1  2  3]\n",
      " [ 4  5  6  7]\n",
      " [ 8  9 10 11]] [] []\n",
      "[[ 0  1  2  3]\n",
      " [ 4  5  6  7]\n",
      " [ 8  9 10 11]] [] []\n",
      "\n",
      "[[ 0  1  2  3]\n",
      " [ 4  5  6  7]\n",
      " [ 8  9 10 11]]\n",
      "[array([[0, 1, 2, 3],\n",
      "       [4, 5, 6, 7]]), array([[ 8,  9, 10, 11]])]\n",
      "[array([[0],\n",
      "       [4],\n",
      "       [8]]), array([[1],\n",
      "       [5],\n",
      "       [9]]), array([[ 2,  3],\n",
      "       [ 6,  7],\n",
      "       [10, 11]])]\n"
     ]
    }
   ],
   "source": [
    "##### Array Splitting ########\n",
    "\n",
    "# 1-d arrays\n",
    "print(x)\n",
    "x1, x2, x3 = np.split(x,[3,5])\n",
    "print(x1, x2, x3)\n",
    "\n",
    "# above can also be achived using slicing, but above code looks cleaner\n",
    "x1, x2, x3 = x[:3], x[3:5], x[5:]\n",
    "print(x1, x2, x3)\n",
    "print()\n",
    "\n",
    "# multi-dimensional arrays, split using hsplit, vsplit\n",
    "x = np.arange(0,12).reshape((3,4))\n",
    "print(x)\n",
    "print(np.vsplit(x,[2]))   # Breaks around rows\n",
    "print(np.hsplit(x,[1,2]))   # Breaks around colss\n"
   ]
  },
  {
   "cell_type": "markdown",
   "metadata": {},
   "source": [
    "# Computation on NumPy Arrays: Universal Functions\n",
    "\n",
    "### The slowness of loops\n",
    "\n",
    "Python's default implementation (known as CPython) does some operations very slowly. This is in part due to the dynamic, interpreted nature of the language: the fact that types are flexible, so that sequences of operations cannot be compiled down to efficient machine code as in languages like C and Fortran. \n",
    "\n",
    "The relative sluggishness of Python generally manifests itself in situations where many small operations are being repeated – for instance looping over arrays to operate on each element. \n",
    "\n",
    "For example, imagine we have an array of values and we'd like to compute the reciprocal of each. A straightforward approach might look like this:\n",
    "\n",
    "It takes several seconds to compute these million operations and to store the result! "
   ]
  },
  {
   "cell_type": "code",
   "execution_count": 165,
   "metadata": {},
   "outputs": [
    {
     "name": "stdout",
     "output_type": "stream",
     "text": [
      "[1.         0.5        0.33333333 0.25      ]\n",
      "11.1 s ± 341 ms per loop (mean ± std. dev. of 7 runs, 1 loop each)\n",
      "158 ms ± 1.1 ms per loop (mean ± std. dev. of 7 runs, 10 loops each)\n"
     ]
    }
   ],
   "source": [
    "np.random.seed(0) # set the seed so random values generated same each time\n",
    "\n",
    "def get_reciprocal(values_arr):\n",
    "    result = np.empty(len(values_arr))  # Intialize arrays, where values will be what it has in memory already\n",
    "    for i in range(0,len(values_arr)):\n",
    "        result[i] = 1/values_arr[i]\n",
    "    return result\n",
    "\n",
    "print(get_reciprocal(np.array([1,2,3,4])))\n",
    "\n",
    "big_array = np.random.randint(1,1000,size = 10000000)\n",
    "%timeit get_reciprocal(big_array)\n",
    "\n",
    "# Ufuncs\n",
    "%timeit 1/big_array       # vetorized operation\n",
    "\n",
    "print(\"You see execution time taken for vectorized approch is much lesser than the loops\")"
   ]
  },
  {
   "cell_type": "markdown",
   "metadata": {},
   "source": [
    "### Introducing UFuncs, vectorized operations\n",
    "For many types of operations, NumPy provides a convenient interface into just this kind of statically typed, compiled routine. This is known as a vectorized operation. This can be accomplished by simply performing an operation on the array, which will then be applied to each element. This vectorized approach is designed to push the loop into the compiled layer that underlies NumPy, leading to much faster execution.\n",
    "\n",
    "Vectorized operations in NumPy are implemented via **ufuncs**, whose main purpose is to quickly execute repeated operations on values in NumPy arrays. Ufuncs are extremely flexible – before we saw an operation between a scalar and an array, but we can also operate between two arrays:"
   ]
  },
  {
   "cell_type": "code",
   "execution_count": 167,
   "metadata": {},
   "outputs": [
    {
     "name": "stdout",
     "output_type": "stream",
     "text": [
      "[0.         0.5        0.66666667 0.75       0.8       ]\n",
      "\n",
      "[[  1   2   4]\n",
      " [  8  16  32]\n",
      " [ 64 128 256]]\n"
     ]
    }
   ],
   "source": [
    "# 1-d array\n",
    "print(np.arange(5) / np.arange(1, 6))\n",
    "print()\n",
    "\n",
    "# 2d array\n",
    "x = np.arange(9).reshape((3, 3))\n",
    "# want to get 2 to the power x, where x belongs to matrices X.\n",
    "# Instead of looping just do the following operation\n",
    "print(2 ** x)"
   ]
  },
  {
   "cell_type": "markdown",
   "metadata": {},
   "source": [
    "### Exploring NumPy's UFuncs\n",
    "Ufuncs exist in two flavors: \n",
    "* unary ufuncs, which operate on a single input, and\n",
    "* binary ufuncs, which operate on two inputs. We'll see examples of both these types of functions here."
   ]
  },
  {
   "cell_type": "code",
   "execution_count": 183,
   "metadata": {},
   "outputs": [
    {
     "name": "stdout",
     "output_type": "stream",
     "text": [
      "x     = [0 1 2 3]\n",
      "x + 5 = [5 6 7 8]\n",
      "x - 5 = [-5 -4 -3 -2]\n",
      "x * 2 = [0 2 4 6]\n",
      "x / 2 = [0.  0.5 1.  1.5]\n",
      "x // 2 = [0 0 1 1]\n",
      "-x     =  [ 0 -1 -2 -3]\n",
      "x ** 2 =  [0 1 4 9]\n",
      "x % 2  =  [0 1 0 1]\n",
      "x + 5 = [5 6 7 8]\n",
      "Absolute of  [-5 -4 -3 -2]  is: [5 4 3 2]\n",
      "\n",
      "sin( [0.         1.57079633 3.14159265] ) : [0.0000000e+00 1.0000000e+00 1.2246468e-16]\n",
      "cos( [0.         1.57079633 3.14159265] ) : [ 1.000000e+00  6.123234e-17 -1.000000e+00]\n",
      "tan( [0.         1.57079633 3.14159265] ) : [ 0.00000000e+00  1.63312394e+16 -1.22464680e-16]\n",
      "x         =  [-1, 0, 1]\n",
      "arcsin(x) =  [-1.57079633  0.          1.57079633]\n",
      "\n",
      "e^x =  [  1.           7.3890561   54.59815003 403.42879349]\n",
      "2^x =  [ 1.  4. 16. 64.]\n",
      "n^x =  [  1   9  81 729]\n",
      "\n",
      "x        = [1, 2, 4, 10]\n",
      "ln(x)    = [0.         0.69314718 1.38629436 2.30258509]\n",
      "log2(x)  = [0.         1.         2.         3.32192809]\n",
      "log10(x) = [0.         0.30103    0.60205999 1.        ]\n",
      "\n"
     ]
    }
   ],
   "source": [
    "##### Array Arithmatic ###\n",
    "x = np.arange(4)\n",
    "print(\"x     =\", x)\n",
    "print(\"x + 5 =\", x + 5)\n",
    "print(\"x - 5 =\", x - 5)\n",
    "print(\"x * 2 =\", x * 2)\n",
    "print(\"x / 2 =\", x / 2)\n",
    "print(\"x // 2 =\", x // 2)\n",
    "print(\"-x     = \", -x)\n",
    "print(\"x ** 2 = \", x ** 2)\n",
    "print(\"x % 2  = \", x % 2)\n",
    "\n",
    "# The '+' operator used above is just a wrapper for np.add\n",
    "print(\"x + 5 =\",np.add(x, 5))\n",
    "\n",
    "print(\"Absolute of \",x-5,\" is:\",np.absolute(x - 5))\n",
    "print()\n",
    "\n",
    "### Trigonometric operation\n",
    "x = np.linspace(0, np.pi, 3)\n",
    "print(\"sin(\",x,\") :\",np.sin(x))\n",
    "print(\"cos(\",x,\") :\",np.cos(x))\n",
    "print(\"tan(\",x,\") :\",np.tan(x))\n",
    "\n",
    "##** Note : The values are computed to within machine precision, which is why values that should be zero do \n",
    "#           not always hit exactly zero. Inverse trigonometric functions are also available:\n",
    "\n",
    "# Inverse of sin function\n",
    "x = [-1, 0, 1]\n",
    "print(\"x         = \", x)\n",
    "print(\"arcsin(x) = \", np.arcsin(x))\n",
    "print()\n",
    "# Exponents and Logrithms\n",
    "x = np.arange(0,8,2)\n",
    "print(\"e^x = \", np.exp(x))\n",
    "print(\"2^x = \", np.exp2(x))\n",
    "print(\"n^x = \", np.power(3,x))\n",
    "print()\n",
    "\n",
    "x = [1, 2, 4, 10]\n",
    "print(\"x        =\", x)\n",
    "print(\"ln(x)    =\", np.log(x))\n",
    "print(\"log2(x)  =\", np.log2(x))\n",
    "print(\"log10(x) =\", np.log10(x))\n",
    "print()\n",
    "\n",
    "# Why using following special functions when we have standard ones?\n",
    "## When x is very small, these functions give more precise values than if the raw np.log or np.exp were to be used.\n",
    "x = [0, 0.001, 0.01, 0.1]\n",
    "print(\"exp(x) - 1 =\", np.expm1(x))\n",
    "print(\"log(1 + x) =\", np.log1p(x))"
   ]
  },
  {
   "cell_type": "markdown",
   "metadata": {},
   "source": [
    "### Specialized ufuncs\n",
    "NumPy has many more ufuncs available, including hyperbolic trig functions, bitwise arithmetic, comparison operators, conversions from radians to degrees, rounding and remainders, and much more. A look through the NumPy documentation reveals a lot of interesting functionality.\n",
    "\n",
    "Another excellent source for more specialized and obscure ufuncs is the submodule scipy.special. If you want to compute some obscure mathematical function on your data, chances are it is implemented in scipy.special. There are far too many functions to list them all.\n",
    "\n",
    "### Advanced Ufunc Features\n",
    "Many NumPy users make use of ufuncs without ever learning their full set of features. We'll outline a few specialized features of ufuncs here.\n",
    "\n",
    "* **Specifying output** : For large calculations, it is sometimes useful to be able to specify the array where the result of the calculation will be stored.\n",
    "* **Aggregate**: To reduce an array to the aggregate one can use the 'reduce' function with arithmatic functions."
   ]
  },
  {
   "cell_type": "code",
   "execution_count": 26,
   "metadata": {},
   "outputs": [
    {
     "name": "stdout",
     "output_type": "stream",
     "text": [
      "[0. 2. 4. 6. 8.]\n"
     ]
    }
   ],
   "source": [
    "#### Specifying output ######\n",
    "x = np.arange(0,5)\n",
    "y = np.empty(5)\n",
    "np.multiply(x, 2, out=y)    \n",
    "print(y)\n",
    "\n",
    "# When we write, y = x*2 , this would have resulted in the creation of a temporary array to hold the results\n",
    "# of x82, followed by a second operation copying those values into the y array. \n",
    "# This doesn't make much of a difference for such a small computation, but for very large arrays the\n",
    "# memory savings from careful use of the out argument can be significant."
   ]
  },
  {
   "cell_type": "code",
   "execution_count": 27,
   "metadata": {},
   "outputs": [
    {
     "name": "stdout",
     "output_type": "stream",
     "text": [
      "15\n",
      "120\n",
      "[ 1  3  6 10 15]\n",
      "[  1   2   6  24 120]\n"
     ]
    }
   ],
   "source": [
    "#### Aggregate using reduce ######\n",
    "\n",
    "x = np.arange(1, 6)\n",
    "print(np.add.reduce(x))\n",
    "print(np.multiply.reduce(x))\n",
    "print(np.add.accumulate(x))       # Equal to cumsum or cumulative sum\n",
    "print(np.multiply.accumulate(x))\n",
    "\n",
    "# Note that for these particular cases, there are dedicated NumPy functions to compute the results \n",
    "# (np.sum, np.prod, np.cumsum, np.cumprod), "
   ]
  },
  {
   "cell_type": "markdown",
   "metadata": {},
   "source": [
    "### Aggregations: Min, Max, and Everything In Between\n",
    "\n",
    "* **np.sum**\tCompute sum of elements\n",
    "* **np.prod**\t\tCompute product of elements\n",
    "* **np.mean**\t\tCompute mean of elements\n",
    "* **np.std**\t\tCompute standard deviation\n",
    "* **np.var**\t\tCompute variance\n",
    "* **np.min**\t\tFind minimum value\n",
    "* **np.max**\t\tFind maximum value\n",
    "* **np.argmin**\t\tFind index of minimum value\n",
    "* **np.argmax**\t\tFind index of maximum value\n",
    "* **np.median**\t\tCompute median of elements\n",
    "* **np.percentile**\tCompute rank-based statistics of elements\n",
    "* **np.any**\tN/A\tEvaluate whether any elements are true\n",
    "* **np.all**\tN/A\tEvaluate whether all elements are true\n",
    "\n",
    "If you want to exclude missing values from aggregation just preffix 'nan' in the above function names  ie np.nansum, np.nanpercentile etc.\n"
   ]
  },
  {
   "cell_type": "code",
   "execution_count": 46,
   "metadata": {},
   "outputs": [
    {
     "name": "stdout",
     "output_type": "stream",
     "text": [
      "[[6 7 8]\n",
      " [3 4 5]\n",
      " [0 1 2]]\n",
      "Total Sum :  36\n",
      "Column Sum  [ 9 12 15]\n",
      "Row Sum [21 12  3]\n"
     ]
    }
   ],
   "source": [
    "x = np.arange(9).reshape(3,3)\n",
    "np.random.shuffle(x)\n",
    "print(x)\n",
    "\n",
    "print('Total Sum : ',x.sum())\n",
    "print('Column Sum ',x.sum(axis=0))\n",
    "print('Row Sum',x.sum(axis=1))\n"
   ]
  },
  {
   "cell_type": "markdown",
   "metadata": {},
   "source": [
    "## Broadcasting\n",
    "We saw in the previous section how NumPy's universal functions can be used to vectorize operations and thereby remove slow Python loops. Another means of vectorizing operations is to use NumPy's broadcasting functionality. Broadcasting is simply a set of rules for applying binary ufuncs (e.g., addition, subtraction, multiplication, etc.) on arrays of different sizes.\n",
    "\n",
    "Rules of Broadcasting\n",
    "Broadcasting in NumPy follows a strict set of rules to determine the interaction between the two arrays:\n",
    "\n",
    "* Rule 1: If the two arrays differ in their number of dimensions, the shape of the one with fewer dimensions is padded with ones on its leading (left) side.\n",
    "* Rule 2: If the shape of the two arrays does not match in any dimension, the array with shape equal to 1 in that dimension is stretched to match the other shape.\n",
    "* Rule 3: If in any dimension the sizes disagree and neither is equal to 1, an error is raised.\n",
    "\n",
    "\n",
    "In short to add matrices, either size for corresponding dimension should be equal or for one array the size for the dimension should be 1 and not more than that. So that it could be broadcasted."
   ]
  },
  {
   "cell_type": "code",
   "execution_count": 65,
   "metadata": {},
   "outputs": [
    {
     "name": "stdout",
     "output_type": "stream",
     "text": [
      "[[13  1]\n",
      " [ 2  3]]\n",
      "[6 7 8]\n",
      "[[1. 1. 1.]\n",
      " [1. 1. 1.]\n",
      " [1. 1. 1.]] + [1 2 3] = [[2. 3. 4.]\n",
      " [2. 3. 4.]\n",
      " [2. 3. 4.]]\n",
      "[[1.]\n",
      " [1.]\n",
      " [1.]\n",
      " [1.]]\n",
      "[1 2 3] + [[1.]\n",
      " [1.]\n",
      " [1.]\n",
      " [1.]] = [[2. 3. 4.]\n",
      " [2. 3. 4.]\n",
      " [2. 3. 4.]\n",
      " [2. 3. 4.]]\n"
     ]
    },
    {
     "ename": "ValueError",
     "evalue": "operands could not be broadcast together with shapes (3,2) (3,) ",
     "output_type": "error",
     "traceback": [
      "\u001b[0;31m---------------------------------------------------------------------------\u001b[0m",
      "\u001b[0;31mValueError\u001b[0m                                Traceback (most recent call last)",
      "\u001b[0;32m<ipython-input-65-9c0b6a163699>\u001b[0m in \u001b[0;36m<module>\u001b[0;34m()\u001b[0m\n\u001b[1;32m     22\u001b[0m \u001b[0mM\u001b[0m \u001b[0;34m=\u001b[0m \u001b[0mnp\u001b[0m\u001b[0;34m.\u001b[0m\u001b[0mones\u001b[0m\u001b[0;34m(\u001b[0m\u001b[0;34m(\u001b[0m\u001b[0;36m3\u001b[0m\u001b[0;34m,\u001b[0m \u001b[0;36m2\u001b[0m\u001b[0;34m)\u001b[0m\u001b[0;34m)\u001b[0m\u001b[0;34m\u001b[0m\u001b[0;34m\u001b[0m\u001b[0m\n\u001b[1;32m     23\u001b[0m \u001b[0ma\u001b[0m \u001b[0;34m=\u001b[0m \u001b[0mnp\u001b[0m\u001b[0;34m.\u001b[0m\u001b[0marange\u001b[0m\u001b[0;34m(\u001b[0m\u001b[0;36m3\u001b[0m\u001b[0;34m)\u001b[0m\u001b[0;34m\u001b[0m\u001b[0;34m\u001b[0m\u001b[0m\n\u001b[0;32m---> 24\u001b[0;31m \u001b[0mprint\u001b[0m\u001b[0;34m(\u001b[0m\u001b[0mM\u001b[0m\u001b[0;34m+\u001b[0m\u001b[0ma\u001b[0m\u001b[0;34m)\u001b[0m     \u001b[0;31m# Could not be broadcasted\u001b[0m\u001b[0;34m\u001b[0m\u001b[0;34m\u001b[0m\u001b[0m\n\u001b[0m",
      "\u001b[0;31mValueError\u001b[0m: operands could not be broadcast together with shapes (3,2) (3,) "
     ]
    }
   ],
   "source": [
    "# Recall Universal Functions Ufuncs.\n",
    "# arrays of the same size, binary operations are performed on an element-by-element basis:\n",
    "x = np.array([[11,-2],[-1,-1]])\n",
    "y = np.array([[2,3],[3,4]])\n",
    "print(x + y)\n",
    "\n",
    "# Broadcasting allows these types of binary operations to be performed on arrays of different sizes–\n",
    "# for example, we can just as easily add a scalar (think of it as a zero-dimensional array) to an array:\n",
    "# We can think of this as an operation that stretches or duplicates the value 5 into the array [5, 5, 5],\n",
    "# and adds the results. The advantage of NumPy's broadcasting is that this duplication of values does not actually take place, but it is a useful mental model as we think about broadcasting.\n",
    "\n",
    "x = np.array([1,2,3])\n",
    "print(x+5)\n",
    "\n",
    "x_nd = np.ones((3,3))\n",
    "print(x_nd,'+',x,'=',x_nd + x)\n",
    "\n",
    "x_col= np.ones((4,1))\n",
    "print(x_col)\n",
    "print(x,'+',x_col,'=',x + x_col)\n",
    "\n",
    "M = np.ones((3, 2))\n",
    "a = np.arange(3)\n",
    "print(M+a)     # Could not be broadcasted"
   ]
  },
  {
   "cell_type": "markdown",
   "metadata": {},
   "source": [
    "## Practical Example of broadcasting\n",
    "One place that broadcasting is very useful is in displaying images based on two-dimensional functions. If we want to define a function z=f(x,y), broadcasting can be used to compute the function across the grid:"
   ]
  },
  {
   "cell_type": "code",
   "execution_count": 84,
   "metadata": {},
   "outputs": [
    {
     "name": "stdout",
     "output_type": "stream",
     "text": [
      "(50,)\n",
      "(50, 1)\n",
      "(50, 50)\n"
     ]
    },
    {
     "data": {
      "image/png": "[encoded data removed]",
      "text/plain": [
       "<Figure size 432x288 with 2 Axes>"
      ]
     },
     "metadata": {
      "needs_background": "light"
     },
     "output_type": "display_data"
    }
   ],
   "source": [
    "x = np.linspace(0,5,50)\n",
    "y = np.linspace(0,5,50)[:, np.newaxis] # Changing to column matrix\n",
    "print(x.shape)\n",
    "print(y.shape)\n",
    "\n",
    "z = np.sin(x) ** 10 + np.cos(10 + y * x)# * np.cos(x)\n",
    "print(z.shape)\n",
    "\n",
    "%matplotlib inline\n",
    "import matplotlib.pyplot as plt\n",
    "\n",
    "plt.imshow(z, origin='lower', extent=[0, 5, 0, 5],\n",
    "           cmap='viridis')\n",
    "plt.colorbar();"
   ]
  },
  {
   "cell_type": "markdown",
   "metadata": {},
   "source": [
    "## Comparisons, Masks, and Boolean Logic\n",
    "\n",
    "Masking comes up when you want to extract, modify, count, or otherwise manipulate values in an array based on some criterion:\n",
    "\n",
    "For example, \n",
    "* you might wish to count all values greater than a certain value, \n",
    "* or perhaps remove all outliers that are above some threshold. \n",
    "In NumPy, Boolean masking is often the most efficient way to accomplish these types of tasks.\n",
    "\n",
    "### Comparison Operators as ufuncs (universal functions)\n",
    "We saw that using +, -, *, /, and others on arrays leads to element-wise operations. NumPy also implements comparison operators such as < (less than) and > (greater than) as element-wise ufuncs.\n"
   ]
  },
  {
   "cell_type": "code",
   "execution_count": 7,
   "metadata": {},
   "outputs": [
    {
     "name": "stdout",
     "output_type": "stream",
     "text": [
      "[[ True False  True False]\n",
      " [ True False False  True]\n",
      " [ True False False  True]]\n",
      "[False False False  True  True]\n"
     ]
    }
   ],
   "source": [
    "x1 = np.array([1, 2, 3, 4, 5])\n",
    "print(x < 3)\n",
    "#As in the case of arithmetic operators, the comparison operators are implemented as ufuncs in NumPy; \n",
    "#for example, when you write x < 3, internally NumPy uses np.less(x, 3). \n",
    "\n",
    "#It is also possible to do an element-wise comparison of two arrays, and to include compound expressions:\n",
    "print( (x1 * 4) <= (x1 ** 2) )"
   ]
  },
  {
   "cell_type": "code",
   "execution_count": 18,
   "metadata": {},
   "outputs": [
    {
     "name": "stdout",
     "output_type": "stream",
     "text": [
      "[[2 7 0 9]\n",
      " [1 6 2 7]\n",
      " [4 0 6 2]]\n",
      "[[ True False  True False]\n",
      " [ True False  True False]\n",
      " [False  True False  True]]\n",
      "[2 2 1]\n",
      "True\n",
      "False\n"
     ]
    }
   ],
   "source": [
    "\n",
    "x2 = np.random.randint(10, size=(3, 4))\n",
    "print(x2)\n",
    "print(x2 < 3)\n",
    "\n",
    "# Count how many values greater than 4 in each row\n",
    "print(np.sum(x2>4, axis=1))\n",
    "\n",
    "# Are there any value equal to zero?\n",
    "print(np.any(x2==0))\n",
    "\n",
    "# Are all values grt zero?\n",
    "print(np.all(x2>0))\n"
   ]
  },
  {
   "cell_type": "markdown",
   "metadata": {},
   "source": [
    "Finally, a quick warning: as mentioned in Aggregations: Min, Max, and Everything In Between, Python has built-in sum(), any(), and all() functions. These have a different syntax than the NumPy versions, and in particular will fail or produce unintended results when used on multidimensional arrays. Be sure that you are using np.sum(), np.any(), and np.all() for these examples!"
   ]
  },
  {
   "cell_type": "markdown",
   "metadata": {},
   "source": [
    "### Boolean operators\n",
    "Python's bitwise logic operators, &, |, ^, and ~. Like with the standard arithmetic operators, NumPy overloads these as ufuncs which work element-wise on (usually Boolean) arrays.\n",
    "\n",
    "Note that the parentheses here are important–because of operator precedence rules"
   ]
  },
  {
   "cell_type": "code",
   "execution_count": 20,
   "metadata": {},
   "outputs": [
    {
     "name": "stdout",
     "output_type": "stream",
     "text": [
      "[0 1 1]\n",
      "[4 3 3]\n"
     ]
    }
   ],
   "source": [
    "# Count how many values greater than 4 and less than 7in each row\n",
    "print(np.sum( (x2 > 4) & (x2 < 7), axis=1))\n",
    "\n",
    "# Count how many values less than or equal to 4 or greater than or equal to 7 in each row\n",
    "print(np.sum( ~((x2 > 4) & (x2 < 7)), axis=1))\n"
   ]
  },
  {
   "cell_type": "markdown",
   "metadata": {},
   "source": [
    "### Boolean Arrays as Masks\n",
    "A more powerful pattern is to use Boolean arrays as masks, to select particular subsets of the data themselves. Returning to our x array from before, suppose we want an array of all values in the array that are less than, say, 5:"
   ]
  },
  {
   "cell_type": "code",
   "execution_count": 23,
   "metadata": {},
   "outputs": [
    {
     "name": "stdout",
     "output_type": "stream",
     "text": [
      "[[2 7 0 9]\n",
      " [1 6 2 7]\n",
      " [4 0 6 2]]\n",
      "[2 0 1 2 4 0 2]\n"
     ]
    }
   ],
   "source": [
    "print(x2)\n",
    "\n",
    "# Selecting a subset of the x2 where values are less than 5\n",
    "print(x2[ x2< 5])"
   ]
  },
  {
   "cell_type": "markdown",
   "metadata": {},
   "source": [
    "### Aside: Using the Keywords and/or Versus the Operators &/|\n",
    "One common point of confusion is the difference between the keywords and and or on one hand, and the operators & and | on the other hand. When would you use one versus the other?\n",
    "\n",
    "The difference is this: and and or gauge the truth or falsehood of entire object, while & and | refer to bits within each object.\n",
    "\n",
    "So remember this: and and or perform a single Boolean evaluation on an entire object, while & and | perform multiple Boolean evaluations on the content (the individual bits or bytes) of an object. For Boolean NumPy arrays, the latter is nearly always the desired operation."
   ]
  },
  {
   "cell_type": "code",
   "execution_count": 24,
   "metadata": {},
   "outputs": [
    {
     "name": "stdout",
     "output_type": "stream",
     "text": [
      "[ True  True  True False  True  True]\n"
     ]
    },
    {
     "ename": "ValueError",
     "evalue": "The truth value of an array with more than one element is ambiguous. Use a.any() or a.all()",
     "output_type": "error",
     "traceback": [
      "\u001b[0;31m---------------------------------------------------------------------------\u001b[0m",
      "\u001b[0;31mValueError\u001b[0m                                Traceback (most recent call last)",
      "\u001b[0;32m<ipython-input-24-258625afe40b>\u001b[0m in \u001b[0;36m<module>\u001b[0;34m()\u001b[0m\n\u001b[1;32m      2\u001b[0m \u001b[0mB\u001b[0m \u001b[0;34m=\u001b[0m \u001b[0mnp\u001b[0m\u001b[0;34m.\u001b[0m\u001b[0marray\u001b[0m\u001b[0;34m(\u001b[0m\u001b[0;34m[\u001b[0m\u001b[0;36m1\u001b[0m\u001b[0;34m,\u001b[0m \u001b[0;36m1\u001b[0m\u001b[0;34m,\u001b[0m \u001b[0;36m1\u001b[0m\u001b[0;34m,\u001b[0m \u001b[0;36m0\u001b[0m\u001b[0;34m,\u001b[0m \u001b[0;36m1\u001b[0m\u001b[0;34m,\u001b[0m \u001b[0;36m1\u001b[0m\u001b[0;34m]\u001b[0m\u001b[0;34m,\u001b[0m \u001b[0mdtype\u001b[0m\u001b[0;34m=\u001b[0m\u001b[0mbool\u001b[0m\u001b[0;34m)\u001b[0m\u001b[0;34m\u001b[0m\u001b[0;34m\u001b[0m\u001b[0m\n\u001b[1;32m      3\u001b[0m \u001b[0mprint\u001b[0m\u001b[0;34m(\u001b[0m\u001b[0mA\u001b[0m \u001b[0;34m|\u001b[0m \u001b[0mB\u001b[0m\u001b[0;34m)\u001b[0m\u001b[0;34m\u001b[0m\u001b[0;34m\u001b[0m\u001b[0m\n\u001b[0;32m----> 4\u001b[0;31m \u001b[0mprint\u001b[0m\u001b[0;34m(\u001b[0m\u001b[0mA\u001b[0m \u001b[0;32mor\u001b[0m \u001b[0mB\u001b[0m\u001b[0;34m)\u001b[0m\u001b[0;34m\u001b[0m\u001b[0;34m\u001b[0m\u001b[0m\n\u001b[0m",
      "\u001b[0;31mValueError\u001b[0m: The truth value of an array with more than one element is ambiguous. Use a.any() or a.all()"
     ]
    }
   ],
   "source": [
    "A = np.array([1, 0, 1, 0, 1, 0], dtype=bool)\n",
    "B = np.array([1, 1, 1, 0, 1, 1], dtype=bool)\n",
    "print(A | B)\n",
    "print(A or B)"
   ]
  },
  {
   "cell_type": "markdown",
   "metadata": {},
   "source": [
    "## Fancy Indexing\n",
    "\n",
    "In the previous sections, we saw how to access and modify portions of arrays using simple indices (e.g., arr[0]), slices (e.g., arr[:5]), and Boolean masks (e.g., arr[arr > 0]). In this section, we'll look at another style of array indexing, known as fancy indexing. Fancy indexing is like the simple indexing we've already seen, but we pass arrays of indices in place of single scalars. This allows us to very quickly access and modify complicated subsets of an array's values.\n"
   ]
  },
  {
   "cell_type": "code",
   "execution_count": 38,
   "metadata": {},
   "outputs": [
    {
     "name": "stdout",
     "output_type": "stream",
     "text": [
      "[51 92 14 71 60 20 82 86 74 74]\n",
      "[14, 71, 20]\n",
      "[14 71 20]\n",
      "[[71 60]\n",
      " [20 82]]\n",
      "[[ 0  1  2  3]\n",
      " [ 4  5  6  7]\n",
      " [ 8  9 10 11]\n",
      " [12 13 14 15]\n",
      " [16 17 18 19]]\n",
      "[ 6  1 11]\n",
      "[[1]\n",
      " [0]\n",
      " [2]]\n",
      "[[[ 6  5  7]]\n",
      "\n",
      " [[ 2  1  3]]\n",
      "\n",
      " [[10  9 11]]]\n",
      "[[ 2  1  3]\n",
      " [ 6  5  7]\n",
      " [10  9 11]\n",
      " [14 13 15]\n",
      " [18 17 19]]\n"
     ]
    }
   ],
   "source": [
    "rand = np.random.RandomState(42)\n",
    "\n",
    "# 1-D array\n",
    "x = rand.randint(100, size=10)\n",
    "print(x)\n",
    "\n",
    "#get an array of elements at index 2,3,5\n",
    "print([x[2],x[3],x[5]]) # so instead of aaccessing an individual element\n",
    "\n",
    "print(x[[2,3,5]])       # we can just pass a list of index. This is fancy indexing\n",
    "\n",
    "#When using fancy indexing, the shape of the result reflects the shape of the index arrays rather \n",
    "#than the shape of the array being indexed:\n",
    "indexes = np.array([[3,4],\n",
    "                    [5,6]])\n",
    "print(x[indexes]) # the shape of the result array depends on the indexes shape and not array being indexed itself.\n",
    "\n",
    "\n",
    "#2-d array\n",
    "\n",
    "X1 = np.arange(20).reshape((5, 4))\n",
    "print(X1)\n",
    "\n",
    "row = np.array([1, 0, 2])  # Row indexed\n",
    "col = np.array([2, 1, 3])  # Column indexes\n",
    "\n",
    "#When you want to access elements using pairwise indexes, use\n",
    "# just provide row and col indexes as row vector (1-d array)\n",
    "print(X1[row,col])  # X1[1,2], X1[0,1], X1[2,3]\n",
    "\n",
    "# When you want to access full rows and columns mentioned in indexes instead of pairwise\n",
    "row = row[:, np.newaxis] # changes to column vector\n",
    "print(row)\n",
    "#The pairing of indices in fancy indexing follows all the broadcasting rules that were mentioned in Computation\n",
    "#on Arrays: Broadcasting. So, for example, if we combine a column vector and a row vector within the indices, \n",
    "#we get a two-dimensional result:\n",
    "print(X1[row, col]) # Since row  is column and col is row vector, it broadcasts and get the whole subset of matrix\n",
    "\n",
    "# When you want to access selected cols and all rows\n",
    "print(X1[:,col]) # its accessing only columns\n",
    "\n"
   ]
  },
  {
   "cell_type": "markdown",
   "metadata": {},
   "source": [
    "### Modifying Values with Fancy Indexing"
   ]
  },
  {
   "cell_type": "code",
   "execution_count": 42,
   "metadata": {},
   "outputs": [
    {
     "name": "stdout",
     "output_type": "stream",
     "text": [
      "[ 0 99 99  3 99  5  6  7 99  9]\n",
      "[ 0 89 89  3 89  5  6  7 89  9]\n",
      "[6. 0. 0. 0. 0. 0. 0. 0. 0. 0.]\n",
      "[6. 0. 1. 1. 1. 0. 0. 0. 0. 0.]\n",
      "[0. 0. 1. 2. 3. 0. 0. 0. 0. 0.]\n"
     ]
    }
   ],
   "source": [
    "x = np.arange(10)\n",
    "i = np.array([2, 1, 8, 4])\n",
    "x[i] = 99\n",
    "print(x)\n",
    "x[i] -= 10\n",
    "print(x)\n",
    "\n",
    "# Repeated indices\n",
    "x = np.zeros(10)\n",
    "x[[0, 0]] = [4, 6] # So first it assigns 4 at 0th index then 6. so last value shows up\n",
    "print(x)\n",
    "\n",
    "\n",
    "\n",
    "# In the following example, you might expect that x[3] would contain the value 2, and x[4] would contain\n",
    "# the value 3, as this is how many times each index is repeated. Why is this not the case? Conceptually,\n",
    "# this is because x[i] += 1 is meant as a shorthand of x[i] = x[i] + 1. x[i] + 1 is evaluated, and then the \n",
    "# result is assigned to the indices in x. With this in mind, it is not the augmentation that happens multiple times,\n",
    "# but the assignment, which leads to the rather nonintuitive results.\n",
    "i = [2, 3, 3, 4, 4, 4]\n",
    "x[i] += 1  \n",
    "print(x)\n",
    "\n",
    "# So what if you want the other behavior where the operation is repeated? For this, you can use the at() \n",
    "# method of ufuncs (available since NumPy 1.8), and do the following:\n",
    "x = np.zeros(10)\n",
    "np.add.at(x,i,1) \n",
    "print(x)\n"
   ]
  },
  {
   "cell_type": "markdown",
   "metadata": {},
   "source": [
    "## Sorting\n",
    "Although Python has built-in sort and sorted functions to work with lists, we won't discuss them here because NumPy's np.sort function turns out to be much more efficient and useful for our purposes. By default np.sort uses an [NlogN], quicksort algorithm, though mergesort and heapsort are also available. For most applications, the default quicksort is more than sufficient."
   ]
  },
  {
   "cell_type": "code",
   "execution_count": 54,
   "metadata": {},
   "outputs": [
    {
     "name": "stdout",
     "output_type": "stream",
     "text": [
      "[527 592 290  16 895 312 742 156 511 659]\n",
      "[ 16 156 290 312 511 527 592 659 742 895]\n",
      "[527 592 290  16 895 312 742 156 511 659]\n",
      "[3 7 2 5 8 0 1 9 6 4]\n",
      "None\n",
      "[ 16 156 290 312 511 527 592 659 742 895]\n",
      "[[309 403 519 909 932]\n",
      " [ 34 144 392 473 896]\n",
      " [107 457 500 742 866]\n",
      " [ 76 627 786 820 897]]\n"
     ]
    }
   ],
   "source": [
    "#1-d array\n",
    "x = np.random.randint(0,1000,10)\n",
    "print(x)\n",
    "print(np.sort(x)) # does't sort inplace, doesnt change argument. returns sorted array\n",
    "print(x)\n",
    "\n",
    "print(np.argsort(x)) # returns an array of indexes of sorted array\n",
    "\n",
    "print(x.sort())   # sorts the array which has called the sort method, doesn't return anything\n",
    "print(x)\n",
    "\n",
    "#2-d array\n",
    "x = np.random.randint(0,1000,20).reshape(4,5)\n",
    "print(np.sort(x, axis=1))  # Sort each row"
   ]
  },
  {
   "cell_type": "markdown",
   "metadata": {},
   "source": [
    "# Structure Numpy Array"
   ]
  },
  {
   "cell_type": "code",
   "execution_count": null,
   "metadata": {},
   "outputs": [],
   "source": []
  },
  {
   "cell_type": "code",
   "execution_count": null,
   "metadata": {},
   "outputs": [],
   "source": []
  },
  {
   "cell_type": "code",
   "execution_count": null,
   "metadata": {},
   "outputs": [],
   "source": []
  },
  {
   "cell_type": "code",
   "execution_count": null,
   "metadata": {},
   "outputs": [],
   "source": []
  },
  {
   "cell_type": "code",
   "execution_count": null,
   "metadata": {},
   "outputs": [],
   "source": []
  },
  {
   "cell_type": "code",
   "execution_count": null,
   "metadata": {},
   "outputs": [],
   "source": []
  },
  {
   "cell_type": "code",
   "execution_count": null,
   "metadata": {},
   "outputs": [],
   "source": []
  },
  {
   "cell_type": "code",
   "execution_count": null,
   "metadata": {},
   "outputs": [],
   "source": []
  },
  {
   "cell_type": "code",
   "execution_count": null,
   "metadata": {},
   "outputs": [],
   "source": []
  }
 ],
 "metadata": {
  "kernelspec": {
   "display_name": "Python 3",
   "language": "python",
   "name": "python3"
  },
  "language_info": {
   "codemirror_mode": {
    "name": "ipython",
    "version": 3
   },
   "file_extension": ".py",
   "mimetype": "text/x-python",
   "name": "python",
   "nbconvert_exporter": "python",
   "pygments_lexer": "ipython3",
   "version": "3.7.4"
  }
 },
 "nbformat": 4,
 "nbformat_minor": 2
}
