{
 "cells": [
  {
   "cell_type": "code",
   "execution_count": 1,
   "metadata": {},
   "outputs": [
    {
     "name": "stdout",
     "output_type": "stream",
     "text": [
      "[[4.20339587]\n",
      " [2.67699996]]\n",
      "[[4.20339587]\n",
      " [6.88039583]]\n"
     ]
    },
    {
     "data": {
      "image/png": "[encoded data removed]",
      "text/plain": [
       "<Figure size 432x288 with 1 Axes>"
      ]
     },
     "metadata": {
      "needs_background": "light"
     },
     "output_type": "display_data"
    },
    {
     "name": "stdout",
     "output_type": "stream",
     "text": [
      "[4.20339587] [[2.67699996]]\n"
     ]
    }
   ],
   "source": [
    "\n",
    "#Topics Covered in this Chapter are:\n",
    "  # Linear Regression : Closed Form\n",
    "  # Linear Regression : Gradient Descent\n",
    "  # Polynomial Regression\n",
    "  # Regularization Techniques\n",
    "  # Logistic Regression\n",
    "  # Softmax Regression\n",
    "\n",
    "\n",
    "\n",
    "# Linear Regression : Closed Form\n",
    "\n",
    "  ## Linear regression (vectorized form)\n",
    "\n",
    "    #     y_hat = hθ(x) = transpose(θ) . x\n",
    "    #        where  θ = model's parameter vector\n",
    "    #               x = instance's feature vector, x0 to xm, where x0=1 and m = numbe of features\n",
    "    #               . = dot product\n",
    "    #               hθ = hypothesis funtion, using the model parameter θ\n",
    "\n",
    "\n",
    "    # Cost function is MSE(X,hθ), MSE : Mean Square Error\n",
    "\n",
    "  ##The Normal Equation:\n",
    "\n",
    "    # To find the value of θ that minimizes the cost function, there is a closed form solution\n",
    "    # This is called The Normal Equation\n",
    "\n",
    "    #     θ_hat = inverse(transpose(X) . X) . transpose(X).y\n",
    "    #        where  X = Training Ser (a matrix)\n",
    "    #               θ_hat = is the value of θ that minizes the cost function\n",
    "    #               y = the vector of target values\n",
    "\n",
    "\n",
    "# Practice Code\n",
    "## Lets generate some linear looking data to test this equation\n",
    "import numpy as np\n",
    "X =  np.random.rand(100,1)\n",
    "y = 4+3 * X + np.random.uniform(low = -1, high = 1,size = (100,1)) # Add noise\n",
    "\n",
    "import matplotlib.pyplot as plt\n",
    "plt.plot(X,y, 'b.')\n",
    "\n",
    "ones = np.ones((100,1)) # generates a matrix of size 100X1\n",
    "X_b = np.c_[ ones, X]   # adding X0 to each instance\n",
    "\n",
    "# Lets compute the θ_hat\n",
    "theta_best = np.linalg.inv( X_b.T.dot(X_b) ).dot( X_b.T.dot(y))\n",
    "print(theta_best)\n",
    "# As you see the theta best is not the exact paremter we have used above, but close enough\n",
    "# because noise made it impossible to recover the exact parameters of the original equation\n",
    "\n",
    "# Now we can make the predictions using θ_hat\n",
    "X_new = np.array([[0],[1]]) # two instance with x1=0 and x1=2\n",
    "X_new_b = np.c_[np.ones([2,1]), X_new] # Creating the training set by adding x0=1\n",
    "y_predict = X_new_b.dot(theta_best)\n",
    "print(y_predict)\n",
    "\n",
    "theta_actual = np.array([4,3])\n",
    "y_actual = X_new_b.dot(theta_actual)\n",
    "\n",
    "plt.plot(X,y,\"b.\", label = 'Actual Data')\n",
    "plt.plot(X_new,y_actual,\"g-\",  label = 'Actual Function')\n",
    "plt.plot(X_new,y_predict,\"r--\",  label = 'Predicted Function, Linear Regression')\n",
    "plt.legend('upper left')\n",
    "plt.show()\n",
    "\n",
    "\n",
    "# The equivalent code using Scikit-Learn looks like this :\n",
    "from sklearn.linear_model import LinearRegression\n",
    "lm_reg = LinearRegression()\n",
    "lm_reg.fit(X,y)\n",
    "print(lm_reg.intercept_, lm_reg.coef_) # Same as we have done manually\n",
    "\n",
    "# Computational complexity of The Normal Equation\n",
    "    #Computation complexity of inverting X_T.X matrix (nXn, where n is number of features)\n",
    "        # is O(n^2.4) to O(n^3) depends on implementation\n",
    "    #This euqtion is linear O(m) with number of instance (m)\n",
    "    #Predictions are very fast.\n",
    "\n",
    "#------------------------------------------------------------------------------------------------------#\n",
    "# Linear Regression : Gradient Descent\n",
    "\n",
    "# A different way to train a linear regression model\n",
    "# better suited for cases where there are a large number of features.\n",
    "# Or too many training instances to fit into memory.\n"
   ]
  }
 ],
 "metadata": {
  "kernelspec": {
   "display_name": "Python 3",
   "language": "python",
   "name": "python3"
  },
  "language_info": {
   "codemirror_mode": {
    "name": "ipython",
    "version": 3
   },
   "file_extension": ".py",
   "mimetype": "text/x-python",
   "name": "python",
   "nbconvert_exporter": "python",
   "pygments_lexer": "ipython3",
   "version": "3.8.3"
  }
 },
 "nbformat": 4,
 "nbformat_minor": 4
}
