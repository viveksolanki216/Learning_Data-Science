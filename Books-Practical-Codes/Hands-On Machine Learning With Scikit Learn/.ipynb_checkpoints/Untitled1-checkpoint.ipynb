{
 "cells": [
  {
   "cell_type": "code",
   "execution_count": null,
   "metadata": {},
   "outputs": [],
   "source": [
    "\n",
    "\n",
    "\n",
    "# Hands-On Machine Learning with Scikit-Learn & TensorFlow\n",
    "# Chapter-03 - Classification\n",
    "# 15-March-2020\n",
    "\n",
    "\n",
    "\n",
    "#-----------------------------------------------Notes------------------------------------------------------------------#\n",
    "# MNIST Data-set : A set of 70K small images of digits handwritten by high school students and employees of the US census Beaureu.\n",
    "# This set is like \"Hello World\" of Machine Learning.\n",
    "# In IIITH the first classification model is I have built on is MNIST dataset\n",
    "#----------------------------------------------------------------------------------------------------------------------#\n",
    "\n",
    "# utilities\n",
    "def plot_digits(instances, images_per_row=10, **options):\n",
    "    size = 28\n",
    "    images_per_row = min(len(instances), images_per_row)\n",
    "    images = [instance.reshape(size,size) for instance in instances]\n",
    "    n_rows = (len(instances) - 1) // images_per_row + 1\n",
    "    row_images = []\n",
    "    n_empty = n_rows * images_per_row - len(instances)\n",
    "    images.append(np.zeros((size, size * n_empty)))\n",
    "    for row in range(n_rows):\n",
    "        rimages = images[row * images_per_row : (row + 1) * images_per_row]\n",
    "        row_images.append(np.concatenate(rimages, axis=1))\n",
    "    image = np.concatenate(row_images, axis=0)\n",
    "    plt.imshow(image, cmap = matplotlib.cm.binary, **options)\n",
    "    plt.axis(\"off\")"
   ]
  },
  {
   "cell_type": "code",
   "execution_count": 2,
   "metadata": {},
   "outputs": [
    {
     "name": "stdout",
     "output_type": "stream",
     "text": [
      "(70000, 784)\n",
      "(70000,)\n"
     ]
    }
   ],
   "source": [
    "\n",
    "#-----------------------------------------------Code------------------------------------------------------------------#\n",
    "# Download MNIST dataset\n",
    "from sklearn.datasets import fetch_openml\n",
    "mnist = fetch_openml('mnist_784', version=1, return_X_y=True)\n",
    "\n",
    "\n",
    "X,y = mnist\n",
    "\n",
    "print(X.shape)\n",
    "print(y.shape)\n"
   ]
  },
  {
   "cell_type": "code",
   "execution_count": 3,
   "metadata": {},
   "outputs": [
    {
     "name": "stdout",
     "output_type": "stream",
     "text": [
      "[[  0.   0.   0.   0.   0.   0.   0.   0.   0.   0.   0.   0.   0.   0.\n",
      "    0.   0.   0.   0.   0.   0.   0.   0.   0.   0.   0.   0.   0.   0.]\n",
      " [  0.   0.   0.   0.   0.   0.   0.   0.   0.   0.   0.   0.   0.   0.\n",
      "    0.   0.   0.   0.   0.   0.   0.   0.   0.   0.   0.   0.   0.   0.]\n",
      " [  0.   0.   0.   0.   0.   0.   0.   0.   0.   0.   0.   0.   0.   0.\n",
      "    0.   0.   0.   0.   0.   0.   0.   0.   0.   0.   0.   0.   0.   0.]\n",
      " [  0.   0.   0.   0.   0.   0.   0.   0.   0.   0.   0.   0.   0.   0.\n",
      "    0.   0.   0.   0.   0.   0.   0.   0.   0.   0.   0.   0.   0.   0.]\n",
      " [  0.   0.   0.   0.   0.   0.   0.   0.   0.   0.  47. 160. 195. 205.\n",
      "   71.  86.  13.   0.   0.   0.   0.   0.   0.   0.   0.   0.   0.   0.]\n",
      " [  0.   0.   0.   0.   0.   0.   0.   0.   0.  12. 238. 254. 254. 254.\n",
      "  254. 254. 227.  84.   0.   0.   0.   0.   0.   0.   0.   0.   0.   0.]\n",
      " [  0.   0.   0.   0.   0.   0.   0.   0.   0.  13. 196. 176. 127. 176.\n",
      "  207. 236. 245. 222.  23.   0.   0.   0.   0.   0.   0.   0.   0.   0.]\n",
      " [  0.   0.   0.   0.   0.   0.   0.   0.   0.   0.   0.   0.   0.   0.\n",
      "    0.  20. 137. 254.  95.   0.   0.   0.   0.   0.   0.   0.   0.   0.]\n",
      " [  0.   0.   0.   0.   0.   0.   0.   0.   0.   0.   0.   0.   0.   0.\n",
      "    0.   0.  78. 254. 144.   0.   0.   0.   0.   0.   0.   0.   0.   0.]\n",
      " [  0.   0.   0.   0.   0.   0.   0.   0.   0.   0.   0.   0.   0.   0.\n",
      "    0.  17. 200. 254. 170.   0.   0.   0.   0.   0.   0.   0.   0.   0.]\n",
      " [  0.   0.   0.   0.   0.   0.   0.   0.   0.   0.   0.   0.   0.   0.\n",
      "   47. 218. 254. 216.  29.   0.   0.   0.   0.   0.   0.   0.   0.   0.]\n",
      " [  0.   0.   0.   0.   0.   0.   0.   0.   0.   0.   0.   0.   0.  95.\n",
      "  225. 254. 245.  65.   0.   0.   0.   0.   0.   0.   0.   0.   0.   0.]\n",
      " [  0.   0.   0.   0.   0.   0.   0.   0.   0.   0.   0.  12. 128. 252.\n",
      "  254. 236.  40.   0.   0.   0.   0.   0.   0.   0.   0.   0.   0.   0.]\n",
      " [  0.   0.   0.   0.   0.   0.   0.   0.   0.   0.   0. 172. 254. 254.\n",
      "  170.  58.   0.   0.   0.   0.   0.   0.   0.   0.   0.   0.   0.   0.]\n",
      " [  0.   0.   0.   0.   0.   0.   0.   0.   0.   0.   0. 207. 254. 254.\n",
      "   65.   0.   0.   0.   0.   0.   0.   0.   0.   0.   0.   0.   0.   0.]\n",
      " [  0.   0.   0.   0.   0.   0.   0.   0.   0.   0.   0. 137. 254. 254.\n",
      "  251. 146.  26.   0.   0.   0.   0.   0.   0.   0.   0.   0.   0.   0.]\n",
      " [  0.   0.   0.   0.   0.   0.   0.   0.   0.   0.   0.   9. 173. 224.\n",
      "  254. 254. 230.  71.   0.   0.   0.   0.   0.   0.   0.   0.   0.   0.]\n",
      " [  0.   0.   0.   0.   0.   0.   0.   0.   0.   0.   0.   0.   8.  12.\n",
      "  254. 254. 254. 246. 104.   0.   0.   0.   0.   0.   0.   0.   0.   0.]\n",
      " [  0.   0.   0.   0.   0.   0.   0.   0.   0.   0.   0.   0.   0.   0.\n",
      "   46. 189. 254. 254. 224.   0.   0.   0.   0.   0.   0.   0.   0.   0.]\n",
      " [  0.   0.   0.   0.   0.   0.   0.   0.   0.  10.   0.   0.   0.   0.\n",
      "    0.  17. 175. 254. 254.  25.   0.   0.   0.   0.   0.   0.   0.   0.]\n",
      " [  0.   0.   0.   0.   0.   0.   0.   0.  35. 231. 156. 112.  87. 186.\n",
      "  191. 218. 254. 254. 219.   0.   0.   0.   0.   0.   0.   0.   0.   0.]\n",
      " [  0.   0.   0.   0.   0.   0.   0.   0. 120. 255. 254. 254. 254. 254.\n",
      "  255. 254. 254. 242.  67.   0.   0.   0.   0.   0.   0.   0.   0.   0.]\n",
      " [  0.   0.   0.   0.   0.   0.   0.   0. 139. 255. 254. 254. 254. 254.\n",
      "  255. 171.  46.  24.   0.   0.   0.   0.   0.   0.   0.   0.   0.   0.]\n",
      " [  0.   0.   0.   0.   0.   0.   0.   0.   5.  71. 164. 189. 174. 174.\n",
      "   66.   4.   0.   0.   0.   0.   0.   0.   0.   0.   0.   0.   0.   0.]\n",
      " [  0.   0.   0.   0.   0.   0.   0.   0.   0.   0.   0.   0.   0.   0.\n",
      "    0.   0.   0.   0.   0.   0.   0.   0.   0.   0.   0.   0.   0.   0.]\n",
      " [  0.   0.   0.   0.   0.   0.   0.   0.   0.   0.   0.   0.   0.   0.\n",
      "    0.   0.   0.   0.   0.   0.   0.   0.   0.   0.   0.   0.   0.   0.]\n",
      " [  0.   0.   0.   0.   0.   0.   0.   0.   0.   0.   0.   0.   0.   0.\n",
      "    0.   0.   0.   0.   0.   0.   0.   0.   0.   0.   0.   0.   0.   0.]\n",
      " [  0.   0.   0.   0.   0.   0.   0.   0.   0.   0.   0.   0.   0.   0.\n",
      "    0.   0.   0.   0.   0.   0.   0.   0.   0.   0.   0.   0.   0.   0.]]\n"
     ]
    },
    {
     "data": {
      "image/png": "[encoded data removed]",
      "text/plain": [
       "<Figure size 432x288 with 1 Axes>"
      ]
     },
     "metadata": {
      "needs_background": "light"
     },
     "output_type": "display_data"
    }
   ],
   "source": [
    "\n",
    "# Display the image\n",
    "import matplotlib\n",
    "import matplotlib.pyplot as plt\n",
    "\n",
    "digit = X[50000]\n",
    "digit_image = digit.reshape(28, 28)\n",
    "print(digit_image)\n",
    "\n",
    "plt.imshow(digit_image, cmap = matplotlib.cm.binary, interpolation='nearest')\n",
    "plt.axis(\"off\")\n",
    "plt.show()"
   ]
  },
  {
   "cell_type": "code",
   "execution_count": 5,
   "metadata": {},
   "outputs": [
    {
     "name": "stdout",
     "output_type": "stream",
     "text": [
      "[10.01 11.27  9.91 10.32  9.8   8.63 10.14 10.7   9.44  9.78]\n",
      "[ 9.83666667 11.25        9.99833333 10.18166667  9.74        9.08333333\n",
      "  9.77       10.37166667  9.80166667  9.96666667]\n"
     ]
    },
    {
     "data": {
      "text/plain": [
       "array([False])"
      ]
     },
     "execution_count": 5,
     "metadata": {},
     "output_type": "execute_result"
    }
   ],
   "source": [
    "\n",
    "\n",
    "\n",
    "\n",
    "# Create a training and testing Set\n",
    "number_training_itmes = 10000\n",
    "train_set, train_label, test_set, test_label = X[:number_training_itmes], y[:number_training_itmes], \\\n",
    "                                               X[number_training_itmes:], y[number_training_itmes:]\n",
    "\n",
    "# Shuffling the order of training data, as some learning algorithms are sensitive to the order of the training instances.\n",
    "# And the perform poorly if they get many similar instances in a row. (data set similar to Timeseries data could be exception here)\n",
    "\n",
    "import numpy as np\n",
    "shuffle_index = np.random.permutation(number_training_itmes)\n",
    "train_set, train_label = train_set[shuffle_index], train_label[shuffle_index]\n",
    "\n",
    "elements, counts = np.unique(train_label, return_counts=True)\n",
    "props = 100*counts/counts.sum()\n",
    "print(props)\n",
    "elements, counts = np.unique(test_label, return_counts=True)\n",
    "props = 100*counts/counts.sum()\n",
    "print(props)\n",
    "\n",
    "# Train a binary classifier\n",
    "# Since there are total 10 (digits) classes to classify, lets start with two for now\n",
    "\n",
    "y_train_5 = (train_label =='5')  #Now we have two classes, Class 'True' if digit =5 else class 'False'\n",
    "y_test_5 = (test_label =='5')\n",
    "\n",
    "# Train a SGDClassifier (a Stochastic Gradient Descent Classifier), an online learning\n",
    "\n",
    "from sklearn.linear_model import SGDClassifier\n",
    "\n",
    "sgd_clf = SGDClassifier(random_state=10)  #relies on randomness during training\n",
    "sgd_clf.fit(train_set, y_train_5)\n",
    "\n",
    "sgd_clf.predict([digit])\n",
    "\n"
   ]
  },
  {
   "cell_type": "code",
   "execution_count": 6,
   "metadata": {},
   "outputs": [
    {
     "name": "stdout",
     "output_type": "stream",
     "text": [
      "[ 0  1  2  3  4  5  6 14 15 17]\n",
      "[ 7  8  9 10 11 12 13 16 18 20]\n",
      "0.9588\n",
      "[ 0  1  4  6  7  8  9 10 11 12]\n",
      "[ 2  3  5 15 17 19 22 23 30 34]\n",
      "0.9648\n",
      "[ 1  2  3  4  5  7  8  9 10 11]\n",
      "[ 0  6 25 27 28 31 37 38 39 45]\n",
      "0.9588\n",
      "[ 0  2  3  5  6  7  8  9 10 11]\n",
      "[ 1  4 14 24 42 47 52 53 59 64]\n",
      "0.964\n"
     ]
    }
   ],
   "source": [
    "\n",
    "\n",
    "#Performance Measure\n",
    "\n",
    "#Measuring Accuracy using Cross-Validation\n",
    "\n",
    "from sklearn.model_selection import StratifiedKFold\n",
    "#from sklearn.base import Clone\n",
    "\n",
    "skfolds = StratifiedKFold(n_splits=4, random_state=10, shuffle=True) # Does a very basic stuff, we even can implement it by ourself\n",
    "\n",
    "for train_index, test_index in skfolds.split(train_set, y_train_5):\n",
    "    print(train_index[0:10])\n",
    "    print(test_index[0:10])\n",
    "\n",
    "    sgd_clf = SGDClassifier(random_state=10) # Every time instantiate a new object\n",
    "\n",
    "    sgd_clf.fit(train_set[ train_index], y_train_5[train_index])\n",
    "    y_pred = sgd_clf.predict(train_set[test_index])\n",
    "    n_match = sum(y_train_5[test_index] == y_pred)\n",
    "    print(n_match/len(y_pred))\n"
   ]
  },
  {
   "cell_type": "code",
   "execution_count": 9,
   "metadata": {},
   "outputs": [
    {
     "data": {
      "text/plain": [
       "array([0.9204, 0.9132, 0.9128, 0.9084])"
      ]
     },
     "execution_count": 9,
     "metadata": {},
     "output_type": "execute_result"
    }
   ],
   "source": [
    "\n",
    "# ~95% Accuracy ah. This looks amazing its wait.\n",
    "\n",
    "# Lets create a baseline accuracy, if you build a really dumb classifier\n",
    "# In this case, just assign every digit to 'not 5' digit class. what would be accuracy?\n",
    "\n",
    "from sklearn.model_selection import cross_val_score  # Instead of writing that much code, python has done the job\n",
    "from sklearn.base import BaseEstimator\n",
    "class BaselineClassifier(BaseEstimator):\n",
    "    def fit(self, X, y):\n",
    "        pass\n",
    "    def predict(self, X):\n",
    "        return np.zeros((len(X),1), dtype=bool)\n",
    "\n",
    "base_model = BaselineClassifier()\n",
    "cross_val_score(base_model, train_set, y_train_5, cv=4, scoring='accuracy')\n",
    "\n",
    "# Around 90% accuracy with really dumb classifier aah, because only 10% are digit '5' class, and rest 90% are 'not 5'.\n",
    "# Now 95% doesn't seem very good isn't it?\n",
    "\n",
    "# This is why accuracy is generally not preferred performance measure for classifiers, especially when you are dealing\n",
    "# with skewed datasets.\n"
   ]
  },
  {
   "cell_type": "code",
   "execution_count": 10,
   "metadata": {},
   "outputs": [
    {
     "name": "stdout",
     "output_type": "stream",
     "text": [
      "0.7289504036908881\n",
      "0.7323290845886443\n"
     ]
    }
   ],
   "source": [
    "\n",
    "#Confusion Matrix\n",
    "from sklearn.model_selection import cross_val_predict\n",
    "# Instead of returning the evaluation scores ie accuracy, 'cross_val_predict' returns the prediction made on each test fold\n",
    "\n",
    "y_train_pred = cross_val_predict(sgd_clf, train_set, y_train_5, cv=4)\n",
    "\n",
    "from sklearn.metrics import confusion_matrix\n",
    "conf_matr = confusion_matrix(y_train_5, y_train_pred)\n",
    "\n",
    "#Confustion Metrics, Understand\n",
    "#            Predictions\n",
    "#             -ve   +ve\n",
    "#actual  -ve | TN   FP |\n",
    "#actual  +ve | FN   TP |\n",
    "\n",
    "# How does a confusion matrix looks like for a perfect classifier\n",
    "confusion_matrix(y_train_5, y_train_5)\n",
    "\n",
    "# Precision : What proportion of predicted positive instances are predicted correct?\n",
    "# For an example : For a disease test, what times the test was correct when test came out positive?\n",
    "# = TP/ (TP+FP)   = TP/(# positive predicted cases)\n",
    "\n",
    "Precision = conf_matr[1,1]  / (conf_matr[1,1] + conf_matr[0,1])\n",
    "print(Precision)\n",
    "\n",
    "\n",
    "# Recall : What proportion of actual positive instances are predicted correct?\n",
    "# For an example : For a disease test, what times the test has detected the positive cases?\n",
    "# = TP/ (TP+FN)   = TP/(# positive cases)\n",
    "Recall = conf_matr[1,1]  / (conf_matr[1,1] + conf_matr[1,0])\n",
    "print(Recall)\n"
   ]
  },
  {
   "cell_type": "code",
   "execution_count": 11,
   "metadata": {},
   "outputs": [
    {
     "data": {
      "image/png": "[encoded data removed]",
      "text/plain": [
       "<Figure size 432x288 with 1 Axes>"
      ]
     },
     "metadata": {
      "needs_background": "light"
     },
     "output_type": "display_data"
    },
    {
     "data": {
      "image/png": "[encoded data removed]",
      "text/plain": [
       "<Figure size 432x288 with 1 Axes>"
      ]
     },
     "metadata": {
      "needs_background": "light"
     },
     "output_type": "display_data"
    },
    {
     "data": {
      "image/png": "[encoded data removed]",
      "text/plain": [
       "<Figure size 432x288 with 1 Axes>"
      ]
     },
     "metadata": {
      "needs_background": "light"
     },
     "output_type": "display_data"
    },
    {
     "data": {
      "image/png": "[encoded data removed]",
      "text/plain": [
       "<Figure size 432x288 with 1 Axes>"
      ]
     },
     "metadata": {
      "needs_background": "light"
     },
     "output_type": "display_data"
    },
    {
     "name": "stdout",
     "output_type": "stream",
     "text": [
      "0.9583148546948086\n",
      "0.996770544832485\n"
     ]
    },
    {
     "data": {
      "text/plain": [
       "SGDClassifier(random_state=10)"
      ]
     },
     "execution_count": 11,
     "metadata": {},
     "output_type": "execute_result"
    }
   ],
   "source": [
    "\n",
    "# It always a desire to get higher precsion and higher recall.\n",
    "# Unfortunately, you cant have it both ways,\n",
    "    # increasing precision reduces recall and vice versa. This is called precision and recall tradeoff.\n",
    "# Either high recall or high precision based on the problem you are trying to solve.\n",
    "# For an example,\n",
    "    #1. If you trained a classifer to detect videos that are safe for kids, you do not want to have false positives here.\n",
    "    # hence high precision and you would be okay with high false negatives (rejects good videos) and hence low recall.\n",
    "    #2. If you have trained a classifier to detect a disease, you would be okay with False positives (false alerts) but\n",
    "    # do not want any pateinet with a disease to go undetected (ie low false negatives) hence high recall but low precision.\n",
    "\n",
    "# Precision / Recall Tradeoff ----- PR Curve\n",
    "\n",
    "# predict fundtion returns classes, 'decision_function' retuns score\n",
    "y_scores = cross_val_predict(sgd_clf, train_set, y_train_5, cv=3, method=\"decision_function\")\n",
    "\n",
    "# given a range of scores, we can find presion and recall for all possible score thresholds\n",
    "from sklearn.metrics import precision_recall_curve\n",
    "precisions, recalls, thresholds = precision_recall_curve(y_train_5, y_scores)\n",
    "\n",
    "def plot_prec_recall_vs_threshold(precisions, recalls, thresholds):\n",
    "    plt.plot(thresholds, precisions[:-1], \"b--\", label = 'Precision')\n",
    "    plt.plot(thresholds, recalls[:-1], \"g-\", label = 'Recall')\n",
    "    plt.xlabel(\"Thresholds\")\n",
    "    plt.legend(loc=\"upper left\")\n",
    "    plt.ylim([0,1])\n",
    "\n",
    "# Now select a threshold, at which you are looking for a precsion or recall.\n",
    "plot_prec_recall_vs_threshold(precisions, recalls, thresholds)\n",
    "plt.show()\n",
    "\n",
    "# PR Curve\n",
    "# Draw a plot x axis precision and y recall\n",
    "plt.plot(recalls, precisions)\n",
    "plt.xlabel('Precision')\n",
    "plt.ylabel('Recall')\n",
    "plt.show()\n",
    "\n",
    "# running random forest instead of SGD classifier\n",
    "from sklearn.ensemble import RandomForestClassifier\n",
    "forest_clf = RandomForestClassifier(random_state=42)\n",
    "y_probas_forest = cross_val_predict(forest_clf, train_set, y_train_5, cv=3, method = 'predict_proba')\n",
    "y_probas_forest2 = y_probas_forest[:,1] # Class 2 probability\n",
    "rf_precisions, rf_recalls, rf_thresholds = precision_recall_curve(y_train_5, y_probas_forest2)\n",
    "\n",
    "\n",
    "\n",
    "# As you see in the plot for PR Curve, clearly Random Forest is doing better\n",
    "plt.plot(recalls, precisions,'g-', label = 'SGD Linear Model')\n",
    "plt.plot(rf_recalls, rf_precisions, 'b--', label = 'Random Forest')\n",
    "plt.xlabel('Precision')\n",
    "plt.ylabel('Recall')\n",
    "plt.legend(loc=\"lower left\")\n",
    "plt.show()\n",
    "\n",
    "# ROC Curve (Reciever Operationg curve)\n",
    "# Y Axis : TPR (Recall/Sensitivity), X Axis : FPR  = (1-TNR) = (1-Specificity)\n",
    "from sklearn.metrics import roc_curve\n",
    "fpr, tpr, thresholds = roc_curve(y_train_5, y_scores)\n",
    "rf_fpr, rf_tpr, rf_thresholds = roc_curve(y_train_5, y_probas_forest2)\n",
    "\n",
    "\n",
    "def plot_roc_curve(tpr, fpr):\n",
    "    plt.plot(fpr, tpr, linewidth = 2, label = None)\n",
    "    plt.plot([0,1], [0,1], \"k--\", label = 'Recall')\n",
    "    plt.xlabel(\"FPR\")\n",
    "    plt.xlabel(\"TPR\")\n",
    "\n",
    "plot_roc_curve(tpr,fpr)\n",
    "plot_roc_curve(rf_tpr,rf_fpr)\n",
    "plt.show()\n",
    "# The digonal dotted line represent purely random classifier\n",
    "# AUC : A perfect classifier have AUC=1, while a random classifier have AUC = 0.5\n",
    "\n",
    "from sklearn.metrics import roc_auc_score\n",
    "print(roc_auc_score(y_train_5, y_scores))\n",
    "print(roc_auc_score(y_train_5, y_probas_forest2))\n",
    "\n",
    "#When to Use ROC vs. Precision-Recall Curves?\n",
    "##Generally, the use of ROC curves and precision-recall curves are as follows:\n",
    "## --> ROC curves should be used when there are roughly equal numbers of observations for each class.\n",
    "## --> Precision-Recall curves should be used when there is a moderate to large class imbalance.\n",
    "##The reason for this recommendation is that ROC curves present an optimistic picture of the model on datasets with a class imbalance.\n",
    "##Some go further and suggest that using a ROC curve with an imbalanced dataset might be deceptive and lead to incorrect\n",
    " # interpretations of the model skill.\n",
    "## If the proportion of positive to negative instances changes in a test set, the ROC curves will not change. Metrics\n",
    " # such as accuracy, precision, lift and F scores use values from both columns of the confusion matrix. As a class distribution changes these measures will change as well, even if the fundamental classifier performance does not. ROC graphs are based upon TP rate and FP rate, in which each dimension is a strict columnar ratio, so do not depend on class distributions.\n",
    "\n",
    "\n",
    "# Multiple Class Classification (More Than 2 Classes)\n",
    " # Some Algorithms ie Random Forest, Naive Bayes are capable of handling multiple classes directly\n",
    " # Others such as SVM or Linear Classifiers are strictly binary classifiers. Though we can various stratagies that one\n",
    " ## can use to perform multiclass classification using multiple binary classifiers which are\n",
    " ### One-Versus-All (OvA) : like we did before we can create a single binary classifiers each for  class '1' vs 'not 1',\n",
    " ### class '2' vs 'not 2' and so on and hence total 10 classifiers.\n",
    " ## and One-Versus-One : A binary classifier for every pair of digits and hence 10*(10-1) binary classifiers.\n",
    "\n",
    " ## When to use OvA or OvO?  Some algorithms such as SVM scale poorly with the size of training set, so for these type\n",
    " ## of algorithms OvO is preferred\n",
    " ## ALthough for most binary classification algos OvA is preferred.\n",
    "\n",
    " # Scikit learn automatically detects when you try to use a binary classifier for a multi class classification task, and\n",
    " # it auromatically runs OvA (except for SVM where it uses OvO).\n",
    "\n",
    "sgd_clf.fit(train_set, train_label) # Under the hood it  trained 10 classifiers\n"
   ]
  },
  {
   "cell_type": "code",
   "execution_count": 14,
   "metadata": {},
   "outputs": [
    {
     "name": "stdout",
     "output_type": "stream",
     "text": [
      "[[  0.   0.   0.   0.   0.   0.   0.   0.   0.   0.   0.   0.   0.   0.\n",
      "    0.   0.   0.   0.   0.   0.   0.   0.   0.   0.   0.   0.   0.   0.]\n",
      " [  0.   0.   0.   0.   0.   0.   0.   0.   0.   0.   0.   0.   0.   0.\n",
      "    0.   0.   0.   0.   0.   0.   0.   0.   0.   0.   0.   0.   0.   0.]\n",
      " [  0.   0.   0.   0.   0.   0.   0.   0.   0.   0.   0.   0.   0.   0.\n",
      "    0.   0.   0.   0.   0.   0.   0.   0.   0.   0.   0.   0.   0.   0.]\n",
      " [  0.   0.   0.   0.   0.   0.   0.   0.   0.   0.   0.   0.   0.   0.\n",
      "    0.   0.   0.   0.   0.   0.   0.   0.   0.   0.   0.   0.   0.   0.]\n",
      " [  0.   0.   0.   0.   0.   0.   0.   0.   0.   0.   0.   0.   0.   0.\n",
      "   44. 105. 114. 254. 210.  93.   0.   0.   0.   0.   0.   0.   0.   0.]\n",
      " [  0.   0.   0.   0.   0.   0.   0.   0.   0.   0.   0.  22.  60. 148.\n",
      "  229. 253. 253. 253. 253. 248.  99.   0.   0.   0.   0.   0.   0.   0.]\n",
      " [  0.   0.   0.   0.   0.   0.   0.   0.   0.   0.   8. 188. 253. 253.\n",
      "  254. 253. 253. 253. 249. 149. 112.   0.   0.   0.   0.   0.   0.   0.]\n",
      " [  0.   0.   0.   0.   0.   0.   0.   0.   0.  15. 191. 253. 253. 253.\n",
      "  254. 253. 253. 253. 178.   0.   0.   0.   0.   0.   0.   0.   0.   0.]\n",
      " [  0.   0.   0.   0.   0.   0.   0.   0.   0. 163. 253. 253. 253. 253.\n",
      "  254. 253. 253. 253. 245. 207.  36.   0.   0.   0.   0.   0.   0.   0.]\n",
      " [  0.   0.   0.   0.   0.   0.   0.   0.  72. 232. 253. 253. 248. 134.\n",
      "   74. 204. 253. 253. 253. 253. 134.   2.   0.   0.   0.   0.   0.   0.]\n",
      " [  0.   0.   0.   0.   0.   0.   0.   0. 224. 253. 253. 253. 128.   0.\n",
      "    0.  29. 206. 253. 253. 253. 253.  94.   0.   0.   0.   0.   0.   0.]\n",
      " [  0.   0.   0.   0.   0.   0.   6. 161. 251. 253. 253. 168.   4.   0.\n",
      "    0.   0.  23. 253. 253. 253. 253. 248.  56.   0.   0.   0.   0.   0.]\n",
      " [  0.   0.   0.   0.   0.   0. 130. 253. 253. 253. 253.  49.   0.   0.\n",
      "    0.   0.   4. 129. 248. 253. 253. 253.  59.   0.   0.   0.   0.   0.]\n",
      " [  0.   0.   0.   0.   0.   0. 164. 253. 253. 253. 173.   6.   0.   0.\n",
      "    0.   0.   0.   0. 224. 253. 253. 253.  59.   0.   0.   0.   0.   0.]\n",
      " [  0.   0.   0.   0.   0.   0. 165. 254. 254. 242.  71.   0.   0.   0.\n",
      "    0.   0.   0.   0. 226. 254. 254. 255.  59.   0.   0.   0.   0.   0.]\n",
      " [  0.   0.   0.   0.   0.  50. 238. 253. 253. 223.   0.   0.   0.   0.\n",
      "    0.   0.   0.   0. 224. 253. 253. 232.  45.   0.   0.   0.   0.   0.]\n",
      " [  0.   0.   0.   0.   0.  60. 253. 253. 253. 223.   0.   0.   0.   0.\n",
      "    0.   0.   1.  87. 243. 253. 253. 163.   0.   0.   0.   0.   0.   0.]\n",
      " [  0.   0.   0.   0.   0.  60. 253. 253. 253. 237.  57.   0.   0.   0.\n",
      "    0.   0.  15. 253. 253. 253. 253.  93.   0.   0.   0.   0.   0.   0.]\n",
      " [  0.   0.   0.   0.   0.  43. 227. 253. 253. 253. 238.  57.   0.   0.\n",
      "    0.   0. 148. 253. 253. 253. 173.   6.   0.   0.   0.   0.   0.   0.]\n",
      " [  0.   0.   0.   0.   0.   0. 147. 253. 253. 253. 253. 227.  60.   0.\n",
      "   18.  61. 227. 253. 253. 249. 223.  12.   0.   0.   0.   0.   0.   0.]\n",
      " [  0.   0.   0.   0.   0.   0.  15. 253. 253. 253. 253. 253. 232. 134.\n",
      "  205. 233. 253. 253. 253. 143.   0.   0.   0.   0.   0.   0.   0.   0.]\n",
      " [  0.   0.   0.   0.   0.   0.  10. 163. 243. 253. 253. 253. 253. 253.\n",
      "  255. 253. 253. 210. 120.   4.   0.   0.   0.   0.   0.   0.   0.   0.]\n",
      " [  0.   0.   0.   0.   0.   0.   0.   0.  97. 120. 232. 253. 253. 253.\n",
      "  254. 242. 199.  31.   0.   0.   0.   0.   0.   0.   0.   0.   0.   0.]\n",
      " [  0.   0.   0.   0.   0.   0.   0.   0.   0.   0.  56. 104. 104. 104.\n",
      "  255. 105.   0.   0.   0.   0.   0.   0.   0.   0.   0.   0.   0.   0.]\n",
      " [  0.   0.   0.   0.   0.   0.   0.   0.   0.   0.   0.   0.   0.   0.\n",
      "    0.   0.   0.   0.   0.   0.   0.   0.   0.   0.   0.   0.   0.   0.]\n",
      " [  0.   0.   0.   0.   0.   0.   0.   0.   0.   0.   0.   0.   0.   0.\n",
      "    0.   0.   0.   0.   0.   0.   0.   0.   0.   0.   0.   0.   0.   0.]\n",
      " [  0.   0.   0.   0.   0.   0.   0.   0.   0.   0.   0.   0.   0.   0.\n",
      "    0.   0.   0.   0.   0.   0.   0.   0.   0.   0.   0.   0.   0.   0.]\n",
      " [  0.   0.   0.   0.   0.   0.   0.   0.   0.   0.   0.   0.   0.   0.\n",
      "    0.   0.   0.   0.   0.   0.   0.   0.   0.   0.   0.   0.   0.   0.]]\n"
     ]
    },
    {
     "data": {
      "image/png": "[encoded data removed]",
      "text/plain": [
       "<Figure size 432x288 with 1 Axes>"
      ]
     },
     "metadata": {
      "needs_background": "light"
     },
     "output_type": "display_data"
    },
    {
     "name": "stdout",
     "output_type": "stream",
     "text": [
      "0\n"
     ]
    }
   ],
   "source": [
    "\n",
    "\n",
    "digit = X[8000]\n",
    "digit_image = digit.reshape(28, 28)\n",
    "print(digit_image)\n",
    "\n",
    "plt.imshow(digit_image, cmap = matplotlib.cm.binary, interpolation='nearest')\n",
    "plt.axis(\"off\")\n",
    "plt.show()\n",
    "\n",
    "sgd_clf.predict([digit]) # Give away the prediction\n",
    "sgd_clf.decision_function([digit]) # 10 scores for every class. Highest score corresponding to the digit\n",
    "\n",
    "print(\"Predicted class\",np.argmax(sgd_clf.decision_function([digit]))) # returns the argument for which value of the function is highest\n",
    "\n",
    "#print(sgd_clf.classes_) # Prints all classes, only availble in case of multi-class\n",
    "\n"
   ]
  },
  {
   "cell_type": "code",
   "execution_count": null,
   "metadata": {},
   "outputs": [],
   "source": [
    "\n",
    "# If you want to force Scikit learn to use OvA or OvO\n",
    "from sklearn.multiclass import OneVsOneClassifier\n",
    "ovo_clf  = OneVsOneClassifier(SGDClassifier(random_state=10))\n",
    "ovo_clf.predict([digit])\n",
    "print(len(ovo_clf.estimators_)) # Number of binary classifiers\n",
    "\n",
    "# The random classifier is as easy.\n",
    "forest_clf.fit(train_set, train_label)\n",
    "forest_clf.predict([digit])\n",
    "\n",
    "# How to confusion matrix look for multiclass predictions\n",
    "y_preds_sgd = sgd_clf.predict(test_set)\n",
    "y_preds_sgd_OvO = ovo_clf.predict(test_set)\n",
    "y_preds_rf = forest_clf.predict(test_set)\n",
    "\n",
    "print(confusion_matrix(test_label, y_preds_sgd))\n",
    "print(confusion_matrix(test_label, y_preds_sgd_OvO))\n",
    "print(confusion_matrix(test_label, y_preds_rf))\n",
    "\n",
    "from sklearn.metrics import accuracy_score\n",
    "\n",
    "# With a random classifier, expected accuracy would be 10%, so getting 95% accuracy with rf is a awesome job\n",
    "print(accuracy_score(test_label, y_preds_sgd))      # 3rd best  86%\n",
    "print(accuracy_score(test_label, y_preds_sgd_OvO))  # 2nd best 90%\n",
    "print(accuracy_score(test_label, y_preds_rf))       # 1st best 95%\n",
    "\n",
    "\n",
    "# Error Analysis\n",
    "## Lets analyze the confusion matrix, lot of number huh, just convert it to a image repr\n",
    "conf_matr = confusion_matrix(test_label, y_preds_sgd)\n",
    "plt.matshow(conf_matr, cmap=plt.cm.gray)\n",
    "plt.show()\n",
    "\n",
    "# observations\n",
    "## Looks fairly good, since most images are on the main digonal, means classified correcly\n",
    "## 5s and 3s look slightly darker than the other digits, means classifier does not perform well on these\n",
    "\n",
    "# Lets compare error rate instead\n",
    "row_sums = conf_matr.sum(axis=1, keepdims = True) # summing rows/actual classes\n",
    "conf_matr_norm = conf_matr/row_sums\n",
    "np.fill_diagonal(conf_matr_norm,0)\n",
    "plt.matshow(conf_matr_norm, cmap=plt.cm.gray)\n",
    "plt.show()\n",
    "\n",
    "# Observations for above plot\n",
    "## 1. The columns for 8 and 9 are quite bright , which tells that many images get wronlgy predicted (missclassified)\n",
    "    # as 8s and 9s.\n",
    "## 2. Rows are for 8 and 9 are also quite bright, which suggests that 8s and 9s are often confused with other digits.\n",
    "## 3. The 3s and 5s are confused with each other.\n",
    "## 4. columns and rows for 0,1,2 are quite dark, means they are getting classified with ease.\n",
    "\n",
    "# Analyzing the confusion matrix can often give you insights on ways to improve the classifiers.\n",
    "\n",
    "# Analyzing individual errors is also a good idea to gain insights on what your classifier is doing and\n",
    "# why it is failing, but it is more difficult and more confusing.\n",
    "# For example, lets plot examples of 3s and 5s.\n",
    "\n",
    "cl_a, cl_b = '8','9'  # 3,5 4,9\n",
    "y_preds_temp = y_preds_rf   #y_preds_sgd\n",
    "X_aa = test_set[ (test_label == cl_a) & (y_preds_temp == cl_a)]\n",
    "X_ab = test_set[ (test_label == cl_a) & (y_preds_temp == cl_b)]\n",
    "X_ba = test_set[ (test_label == cl_b) & (y_preds_temp == cl_a)]\n",
    "X_bb = test_set[ (test_label == cl_b) & (y_preds_temp == cl_b)]\n",
    "\n",
    "plt.figure(figsize=(8,8))\n",
    "plt.subplot(221); plot_digits(X_aa[:25], images_per_row=5)\n",
    "plt.subplot(222); plot_digits(X_ab[:25], images_per_row=5)\n",
    "plt.subplot(223); plot_digits(X_ba[:25], images_per_row=5)\n",
    "plt.subplot(224); plot_digits(X_bb[:25], images_per_row=5)\n",
    "\n",
    "\n",
    "\n",
    "# Mutilable Classifcation\n",
    "# Multioutput Classification\n",
    "# Excercise\n",
    "\n"
   ]
  }
 ],
 "metadata": {
  "kernelspec": {
   "display_name": "Python 3",
   "language": "python",
   "name": "python3"
  },
  "language_info": {
   "codemirror_mode": {
    "name": "ipython",
    "version": 3
   },
   "file_extension": ".py",
   "mimetype": "text/x-python",
   "name": "python",
   "nbconvert_exporter": "python",
   "pygments_lexer": "ipython3",
   "version": "3.8.3"
  }
 },
 "nbformat": 4,
 "nbformat_minor": 4
}
